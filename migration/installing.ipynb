{
 "cells": [
  {
   "cell_type": "code",
   "execution_count": 1,
   "metadata": {},
   "outputs": [
    {
     "name": "stderr",
     "output_type": "stream",
     "text": [
      "/usr/local/lib/python3.6/dist-packages/wmf/wmf.py:18: UserWarning: \n",
      "This call to matplotlib.use() has no effect because the backend has already\n",
      "been chosen; matplotlib.use() must be called *before* pylab, matplotlib.pyplot,\n",
      "or matplotlib.backends is imported for the first time.\n",
      "\n",
      "The backend was *originally* set to 'module://ipykernel.pylab.backend_inline' by the following code:\n",
      "  File \"/usr/lib/python3.6/runpy.py\", line 193, in _run_module_as_main\n",
      "    \"__main__\", mod_spec)\n",
      "  File \"/usr/lib/python3.6/runpy.py\", line 85, in _run_code\n",
      "    exec(code, run_globals)\n",
      "  File \"/home/mcano/.local/lib/python3.6/site-packages/ipykernel_launcher.py\", line 16, in <module>\n",
      "    app.launch_new_instance()\n",
      "  File \"/home/mcano/.local/lib/python3.6/site-packages/traitlets/config/application.py\", line 658, in launch_instance\n",
      "    app.start()\n",
      "  File \"/home/mcano/.local/lib/python3.6/site-packages/ipykernel/kernelapp.py\", line 497, in start\n",
      "    self.io_loop.start()\n",
      "  File \"/home/mcano/.local/lib/python3.6/site-packages/tornado/platform/asyncio.py\", line 132, in start\n",
      "    self.asyncio_loop.run_forever()\n",
      "  File \"/usr/lib/python3.6/asyncio/base_events.py\", line 422, in run_forever\n",
      "    self._run_once()\n",
      "  File \"/usr/lib/python3.6/asyncio/base_events.py\", line 1434, in _run_once\n",
      "    handle._run()\n",
      "  File \"/usr/lib/python3.6/asyncio/events.py\", line 145, in _run\n",
      "    self._callback(*self._args)\n",
      "  File \"/home/mcano/.local/lib/python3.6/site-packages/tornado/platform/asyncio.py\", line 122, in _handle_events\n",
      "    handler_func(fileobj, events)\n",
      "  File \"/home/mcano/.local/lib/python3.6/site-packages/tornado/stack_context.py\", line 300, in null_wrapper\n",
      "    return fn(*args, **kwargs)\n",
      "  File \"/home/mcano/.local/lib/python3.6/site-packages/zmq/eventloop/zmqstream.py\", line 450, in _handle_events\n",
      "    self._handle_recv()\n",
      "  File \"/home/mcano/.local/lib/python3.6/site-packages/zmq/eventloop/zmqstream.py\", line 480, in _handle_recv\n",
      "    self._run_callback(callback, msg)\n",
      "  File \"/home/mcano/.local/lib/python3.6/site-packages/zmq/eventloop/zmqstream.py\", line 432, in _run_callback\n",
      "    callback(*args, **kwargs)\n",
      "  File \"/home/mcano/.local/lib/python3.6/site-packages/tornado/stack_context.py\", line 300, in null_wrapper\n",
      "    return fn(*args, **kwargs)\n",
      "  File \"/home/mcano/.local/lib/python3.6/site-packages/ipykernel/kernelbase.py\", line 283, in dispatcher\n",
      "    return self.dispatch_shell(stream, msg)\n",
      "  File \"/home/mcano/.local/lib/python3.6/site-packages/ipykernel/kernelbase.py\", line 233, in dispatch_shell\n",
      "    handler(stream, idents, msg)\n",
      "  File \"/home/mcano/.local/lib/python3.6/site-packages/ipykernel/kernelbase.py\", line 399, in execute_request\n",
      "    user_expressions, allow_stdin)\n",
      "  File \"/home/mcano/.local/lib/python3.6/site-packages/ipykernel/ipkernel.py\", line 208, in do_execute\n",
      "    res = shell.run_cell(code, store_history=store_history, silent=silent)\n",
      "  File \"/home/mcano/.local/lib/python3.6/site-packages/ipykernel/zmqshell.py\", line 537, in run_cell\n",
      "    return super(ZMQInteractiveShell, self).run_cell(*args, **kwargs)\n",
      "  File \"/home/mcano/.local/lib/python3.6/site-packages/IPython/core/interactiveshell.py\", line 2662, in run_cell\n",
      "    raw_cell, store_history, silent, shell_futures)\n",
      "  File \"/home/mcano/.local/lib/python3.6/site-packages/IPython/core/interactiveshell.py\", line 2785, in _run_cell\n",
      "    interactivity=interactivity, compiler=compiler, result=result)\n",
      "  File \"/home/mcano/.local/lib/python3.6/site-packages/IPython/core/interactiveshell.py\", line 2901, in run_ast_nodes\n",
      "    if self.run_code(code, result):\n",
      "  File \"/home/mcano/.local/lib/python3.6/site-packages/IPython/core/interactiveshell.py\", line 2961, in run_code\n",
      "    exec(code_obj, self.user_global_ns, self.user_ns)\n",
      "  File \"<ipython-input-1-11b166294e35>\", line 1, in <module>\n",
      "    from cpr.Nivel import Nivel\n",
      "  File \"/usr/local/lib/python3.6/dist-packages/cpr/Nivel.py\", line 15, in <module>\n",
      "    import matplotlib.pyplot as plt\n",
      "  File \"/usr/local/lib/python3.6/dist-packages/matplotlib/pyplot.py\", line 71, in <module>\n",
      "    from matplotlib.backends import pylab_setup\n",
      "  File \"/usr/local/lib/python3.6/dist-packages/matplotlib/backends/__init__.py\", line 16, in <module>\n",
      "    line for line in traceback.format_stack()\n",
      "\n",
      "\n",
      "  matplotlib.use('Agg')\n"
     ]
    }
   ],
   "source": [
    "from cpr.Nivel import Nivel\n",
    "from cpr.SqlDb import SqlDb\n",
    "import cpr.information as info\n",
    "import os\n",
    "import datetime\n",
    "import pandas as pd"
   ]
  },
  {
   "cell_type": "code",
   "execution_count": 2,
   "metadata": {},
   "outputs": [],
   "source": [
    "end = datetime.datetime.now()\n",
    "start = end - datetime.timedelta(days=30)\n",
    "self = Nivel(codigo=99,**info.LOCAL)"
   ]
  },
  {
   "cell_type": "code",
   "execution_count": 4,
   "metadata": {},
   "outputs": [],
   "source": [
    "level = self.level(start,end,calidad = True)"
   ]
  },
  {
   "cell_type": "code",
   "execution_count": 3,
   "metadata": {},
   "outputs": [],
   "source": [
    "self.user = 'root'\n",
    "self.passwd = 'mcanoYw2E#'\n",
    "self.execute_sql('SET GLOBAL max_allowed_packet=1073741824;')"
   ]
  },
  {
   "cell_type": "code",
   "execution_count": 6,
   "metadata": {},
   "outputs": [
    {
     "name": "stdout",
     "output_type": "stream",
     "text": [
      "2018-09-27 15:47:insert_myusers_hydrodata:425.2 sec\n"
     ]
    }
   ],
   "source": [
    "self.insert_myusers_hydrodata(start,end)"
   ]
  },
  {
   "cell_type": "code",
   "execution_count": 5,
   "metadata": {},
   "outputs": [],
   "source": [
    "def level_local_all(self,start,end):\n",
    "    '''\n",
    "    Gets last topo-batimetry in db\n",
    "    Parameters\n",
    "    ----------\n",
    "    x_sensor   :   x location of sensor or point to adjust topo-batimetry\n",
    "    Returns\n",
    "    ----------\n",
    "    last topo-batimetry in db, DataFrame\n",
    "    '''\n",
    "    start,end = (start.strftime('%Y-%m-%d %H:%M'),end.strftime('%Y-%m-%d %H:%M'))\n",
    "    query = \"select fk_id,fecha,profundidad from myusers_hydrodata where fecha between '%s' and '%s'\"%(start,end)\n",
    "    df = self.read_sql(query).set_index('fk_id').loc[self.infost.index].set_index('fecha',append=True)\n",
    "    codigos = df.index.levels[0]\n",
    "    nivel = df.reset_index('fecha').loc[codigos,'profundidad']\n",
    "    df = df.reset_index('fecha')\n",
    "    df = df.set_index('fecha',append=True)\n",
    "    df[df<0.0] = np.NaN\n",
    "    return df.unstack(0)['profundidad']"
   ]
  },
  {
   "cell_type": "code",
   "execution_count": 7,
   "metadata": {},
   "outputs": [],
   "source": [
    "import numpy as np"
   ]
  },
  {
   "cell_type": "code",
   "execution_count": 8,
   "metadata": {},
   "outputs": [
    {
     "name": "stderr",
     "output_type": "stream",
     "text": [
      "/home/mcano/.local/lib/python3.6/site-packages/ipykernel_launcher.py:13: FutureWarning: \n",
      "Passing list-likes to .loc or [] with any missing label will raise\n",
      "KeyError in the future, you can use .reindex() as an alternative.\n",
      "\n",
      "See the documentation here:\n",
      "https://pandas.pydata.org/pandas-docs/stable/indexing.html#deprecate-loc-reindex-listlike\n",
      "  del sys.path[0]\n"
     ]
    }
   ],
   "source": [
    "df = level_local_all(self,start,end)"
   ]
  },
  {
   "cell_type": "code",
   "execution_count": null,
   "metadata": {},
   "outputs": [],
   "source": []
  },
  {
   "cell_type": "code",
   "execution_count": null,
   "metadata": {},
   "outputs": [],
   "source": [
    "def level_local_all(self,start,end):\n",
    "    '''\n",
    "    Gets last topo-batimetry in db\n",
    "    Parameters\n",
    "    ----------\n",
    "    x_sensor   :   x location of sensor or point to adjust topo-batimetry\n",
    "    Returns\n",
    "    ----------\n",
    "    last topo-batimetry in db, DataFrame\n",
    "    '''\n",
    "    start,end = (start.strftime('%Y-%m-%d %H:%M'),end.strftime('%Y-%m-%d %H:%M'))\n",
    "    query = \"select fk_id,fecha,profundidad from myusers_hydrodata where fecha between '%s' and '%s'\"%(start,end)\n",
    "    df = self.read_sql(query).set_index('fk_id').loc[self.infost.index].set_index('fecha',append=True)\n",
    "    codigos = df.index.levels[0]\n",
    "    nivel = df.reset_index('fecha').loc[codigos,'profundidad']\n",
    "    df = df.reset_index('fecha')\n",
    "    df = df.set_index('fecha',append=True)\n",
    "    df[df<0.0] = np.NaN\n",
    "    return df.unstack(0)['profundidad']"
   ]
  },
  {
   "cell_type": "code",
   "execution_count": null,
   "metadata": {},
   "outputs": [],
   "source": []
  },
  {
   "cell_type": "code",
   "execution_count": 13,
   "metadata": {},
   "outputs": [
    {
     "data": {
      "text/plain": [
       "<matplotlib.axes._subplots.AxesSubplot at 0x7f73d6968320>"
      ]
     },
     "execution_count": 13,
     "metadata": {},
     "output_type": "execute_result"
    },
    {
     "data": {
      "image/png": "[encoded data removed]",
      "text/plain": [
       "<Figure size 432x288 with 1 Axes>"
      ]
     },
     "metadata": {
      "needs_background": "light"
     },
     "output_type": "display_data"
    }
   ],
   "source": [
    "df[99].plot()"
   ]
  },
  {
   "cell_type": "code",
   "execution_count": null,
   "metadata": {},
   "outputs": [],
   "source": []
  },
  {
   "cell_type": "code",
   "execution_count": null,
   "metadata": {},
   "outputs": [],
   "source": []
  },
  {
   "cell_type": "code",
   "execution_count": null,
   "metadata": {},
   "outputs": [],
   "source": []
  },
  {
   "cell_type": "code",
   "execution_count": null,
   "metadata": {},
   "outputs": [],
   "source": []
  },
  {
   "cell_type": "code",
   "execution_count": null,
   "metadata": {},
   "outputs": [],
   "source": []
  },
  {
   "cell_type": "code",
   "execution_count": null,
   "metadata": {},
   "outputs": [],
   "source": []
  },
  {
   "cell_type": "code",
   "execution_count": null,
   "metadata": {},
   "outputs": [],
   "source": []
  },
  {
   "cell_type": "code",
   "execution_count": null,
   "metadata": {},
   "outputs": [],
   "source": []
  },
  {
   "cell_type": "code",
   "execution_count": null,
   "metadata": {},
   "outputs": [],
   "source": []
  },
  {
   "cell_type": "code",
   "execution_count": null,
   "metadata": {},
   "outputs": [],
   "source": []
  },
  {
   "cell_type": "code",
   "execution_count": null,
   "metadata": {},
   "outputs": [],
   "source": []
  },
  {
   "cell_type": "code",
   "execution_count": null,
   "metadata": {},
   "outputs": [],
   "source": []
  },
  {
   "cell_type": "code",
   "execution_count": null,
   "metadata": {},
   "outputs": [],
   "source": []
  },
  {
   "cell_type": "code",
   "execution_count": null,
   "metadata": {},
   "outputs": [],
   "source": []
  },
  {
   "cell_type": "code",
   "execution_count": null,
   "metadata": {},
   "outputs": [],
   "source": []
  },
  {
   "cell_type": "code",
   "execution_count": null,
   "metadata": {},
   "outputs": [],
   "source": []
  },
  {
   "cell_type": "code",
   "execution_count": null,
   "metadata": {},
   "outputs": [],
   "source": []
  },
  {
   "cell_type": "code",
   "execution_count": null,
   "metadata": {},
   "outputs": [],
   "source": []
  },
  {
   "cell_type": "code",
   "execution_count": null,
   "metadata": {},
   "outputs": [],
   "source": []
  },
  {
   "cell_type": "code",
   "execution_count": null,
   "metadata": {},
   "outputs": [],
   "source": []
  },
  {
   "cell_type": "code",
   "execution_count": null,
   "metadata": {},
   "outputs": [],
   "source": []
  },
  {
   "cell_type": "code",
   "execution_count": null,
   "metadata": {},
   "outputs": [],
   "source": []
  },
  {
   "cell_type": "code",
   "execution_count": null,
   "metadata": {},
   "outputs": [],
   "source": []
  },
  {
   "cell_type": "code",
   "execution_count": 4,
   "metadata": {},
   "outputs": [],
   "source": [
    "def duplicate_existing_table(self,table_name):\n",
    "    '''\n",
    "    inserts data into SQL table from list of fields and values\n",
    "    Parameters\n",
    "    ----------\n",
    "    table_name   = SQL db table name\n",
    "    Returns\n",
    "    -------\n",
    "    Sql sentence,str\n",
    "    '''\n",
    "    df = self.read_sql('describe %s'%table_name)\n",
    "    df['Null'][df['Null']=='NO'] = 'NOT NULL'\n",
    "    df['Null'][df['Null']=='YES'] = 'NULL'\n",
    "    sentence = 'CREATE TABLE %s ('%table_name\n",
    "    if df[df['Extra']=='auto_increment'].empty:\n",
    "        pk = None\n",
    "    else:\n",
    "        pk = df[df['Extra']=='auto_increment']['Field'].values[0]\n",
    "    for id,serie in df.iterrows():\n",
    "        if (serie.Default=='0') or (serie.Default is None):\n",
    "            row = '%s %s %s'%(serie.Field,serie.Type,serie.Null)\n",
    "        else:\n",
    "            if (serie.Default == 'CURRENT_TIMESTAMP'):\n",
    "                serie.Default = \"DEFAULT %s\"%serie.Default\n",
    "            elif serie.Default == '0000-00-00':\n",
    "                serie.Default = \"DEFAULT '1000-01-01 00:00:00'\"\n",
    "            else:\n",
    "                serie.Default = \"DEFAULT '%s'\"%serie.Default\n",
    "            row = '%s %s %s %s'%(serie.Field,serie.Type,serie.Null,serie.Default)\n",
    "        if serie.Extra:\n",
    "            row += ' %s,'%serie.Extra\n",
    "        else:\n",
    "            row += ',' \n",
    "        sentence+=row\n",
    "    if pk:\n",
    "        sentence +='PRIMARY KEY (%s)'%pk\n",
    "    else:\n",
    "        sentence = sentence[:-1]\n",
    "    sentence +=');'\n",
    "    return sentence\n",
    "\n",
    "def siata_remote_data_to_transfer(start,end):\n",
    "    remote = cpr.Nivel(**cpr.info.REMOTE)\n",
    "    codigos_str = '('+str(list(self.infost.index)).strip('[]')+')'\n",
    "    df = remote.read_sql('SELECT * FROM datos WHERE cliente in %s and %s'%(codigos_str,self.fecha_hora_query(start,end)))\n",
    "    return df\n",
    "\n",
    "def default_values(self,table_name):\n",
    "    describe_table = self.read_sql('describe %s'%table_name)\n",
    "    not_null = describe_table['Default'].notnull()\n",
    "    default_values = describe_table[['Field','Default','Type']][not_null].set_index('Field')[['Default','Type']]\n",
    "    return default_values\n",
    "\n",
    "def filter_data_to_update(table_name,path):\n",
    "    default = default_values(self,table_name)\n",
    "    if default[default['Type']=='time'].empty:\n",
    "        time_fields = None\n",
    "    else:\n",
    "        time_fields = default[default['Type']=='time']\n",
    "    for index,s in time_fields.iterrows():\n",
    "        df = pd.read_csv(path,index_col=0)\n",
    "        df[index] = df[index].apply(lambda x:str(x)[6:15])\n",
    "    return df.applymap(lambda x:str(x))\n",
    "\n",
    "def insert_in_datos(path):\n",
    "    inicia = datetime.datetime.now()\n",
    "    table_name = 'datos'\n",
    "    df = filter_data_to_update(table_name,path)\n",
    "    query = 'INSERT INTO %s '%table_name+'('+str(list(df.columns)).strip('[]').replace(\"'\",'')+') VALUES '\n",
    "    for id,s in df.iterrows():\n",
    "        query+=('('+str(list(s.values)).strip('[]'))+'), '\n",
    "    query = query[:-2]+' ON DUPLICATE KEY UPDATE '\n",
    "    describe = self.read_sql('describe %s;'%table_name)\n",
    "    not_primary_keys = describe[describe['Key']!='PRI']\n",
    "    if not_primary_keys.empty:\n",
    "        not_primary_keys = describe.Field.values\n",
    "    else:\n",
    "        not_primary_keys = not_primary_keys.Field.values\n",
    "    for key in not_primary_keys:\n",
    "        query+=('%s = VALUES(%s), '%(key,key))\n",
    "    query=query[:-2]\n",
    "    finaliza = datetime.datetime.now()\n",
    "    self.host = 'localhost'\n",
    "    self.execute_sql('SET GLOBAL max_allowed_packet=1073741824;')\n",
    "    self.execute_sql(query)\n",
    "    print(finaliza - inicia)\n",
    "    \n",
    "#os.system(\"scp -r mcano@siata.gov.co:data_migration/* ../../cprweb/src/media/data_migration/\")\n",
    "\n",
    "self = SqlDb(**info.REMOTE)\n",
    "folder_path = '/home/mcano/dev/cprweb/src/media/weekly_data/'\n",
    "files = os.listdir(folder_path)\n",
    "self.user = 'root'\n",
    "self.host = 'localhost'"
   ]
  },
  {
   "cell_type": "code",
   "execution_count": null,
   "metadata": {},
   "outputs": [],
   "source": [
    "local = SqlDb(**info.REMOTE) \n",
    "local.passwd = input('root password to configure max allowed packet:')\n",
    "local.execute_sql(\"ALTER TABLE myusers_hydrodata ADD UNIQUE(fecha,fk_id);\")"
   ]
  },
  {
   "cell_type": "code",
   "execution_count": 3,
   "metadata": {},
   "outputs": [
    {
     "name": "stdout",
     "output_type": "stream",
     "text": [
      "0:00:26.155669\n",
      "0:00:27.034194\n",
      "0:00:27.375644\n",
      "0:00:43.142851\n",
      "0:00:28.667152\n",
      "0:00:31.006532\n",
      "0:00:48.761271\n",
      "0:00:29.248145\n",
      "0:00:28.208838\n",
      "0:00:27.787453\n",
      "0:00:27.288588\n",
      "0:00:27.829492\n",
      "0:00:28.027138\n",
      "0:00:27.911746\n",
      "0:00:33.909706\n",
      "0:00:28.477437\n",
      "0:00:28.043613\n",
      "0:00:29.726179\n",
      "0:00:27.768112\n",
      "0:00:28.105281\n",
      "0:00:28.807833\n",
      "0:00:29.717089\n",
      "0:00:28.383642\n",
      "0:00:28.646270\n",
      "0:00:28.181506\n",
      "0:00:28.952114\n",
      "0:00:29.278726\n",
      "0:00:29.177116\n",
      "0:00:28.987676\n",
      "0:00:28.189464\n"
     ]
    }
   ],
   "source": [
    "for path in files:\n",
    "    insert_in_datos(folder_path+path)"
   ]
  },
  {
   "cell_type": "code",
   "execution_count": 11,
   "metadata": {},
   "outputs": [
    {
     "name": "stdout",
     "output_type": "stream",
     "text": [
      "0:00:30.739298\n",
      "0:00:27.814135\n",
      "0:00:27.870210\n",
      "0:00:26.896136\n",
      "0:00:27.881269\n"
     ]
    }
   ],
   "source": [
    "self = SqlDb(**info.REMOTE)\n",
    "files = os.listdir(folder_path)\n",
    "\n",
    "april = []\n",
    "for path in files:\n",
    "    if path[:20] == 'weekly_level_2018-04':\n",
    "        april.append(path)\n",
    "\n",
    "date_offset = pd.to_datetime(level.dropna().index[-1])\n",
    "date = date_offset-pd.to_datetime(pd.read_csv(folder_path + april[0],index_col=0)['fecha'][0])\n",
    "for path in april:\n",
    "    raw_data = pd.read_csv(folder_path + path,index_col=0)\n",
    "    raw_data['fecha'] = (pd.to_datetime(raw_data['fecha']) + datetime.timedelta(days=date.days)).apply(lambda x:x.strftime('%Y-%m-%d'))\n",
    "    raw_data.to_csv(folder_path+'future_'+path)\n",
    "    insert_in_datos(folder_path+'future_'+path)"
   ]
  },
  {
   "cell_type": "markdown",
   "metadata": {},
   "source": [
    "### batimetrias"
   ]
  },
  {
   "cell_type": "code",
   "execution_count": null,
   "metadata": {},
   "outputs": [],
   "source": [
    "self = Nivel(codigo=93,**info.LOCAL)\n",
    "folderpath = self.data_path + \"ultimos_levantamientos/\"\n",
    "for path in os.listdir(folderpath):\n",
    "    try:\n",
    "        #metadata\n",
    "        codigo = int(path.replace('.csv',''))\n",
    "        id = self.infost.loc[codigo,'id']\n",
    "        fecha = datetime.datetime.now().strftime('%Y-%m-%d')\n",
    "        hora = datetime.datetime.now().strftime('%H')\n",
    "        minuto = datetime.datetime.now().strftime('%M')\n",
    "        time = datetime.datetime.now().strftime(\"%Y-%m-%d %H:%M\")\n",
    "        #topo\n",
    "        lev = pd.read_csv(folderpath+path,index_col=0)\n",
    "        lev['y'] = lev['y'].apply(lambda x:round(x,3))\n",
    "        lev = lev.reset_index()\n",
    "        lev.columns = ['vertical','x','y']\n",
    "        columns = '(fecha,hora,minuto,tipo_salida,timestamp,updated,user_id,item_fk_id)'\n",
    "        queryst = \"INSERT INTO myusers_item\" + columns\n",
    "        queryst += \" VALUES('%s','%s','%s','siata-batimetria','%s','%s','1','%s');\"%(fecha,hora,minuto,time,time,id)\n",
    "        self.execute_sql(queryst)\n",
    "        fk_id = self.read_sql(\"select id from myusers_item where fecha = '%s' and hora = '%s' and item_fk_id = '%s'\"%(fecha,hora,id))\n",
    "        if fk_id.empty:\n",
    "            pass\n",
    "        else:\n",
    "            for i,s in lev.iterrows():\n",
    "                vertical,x,y = (s.values)\n",
    "                query = \"INSERT INTO myusers_topo (vertical, x, y, timestamp, updated, fk_id, user_id) VALUES\"\n",
    "                query += (\" ('%s','%s','%.3f','%s','%s','%s','1');\")%(vertical,x,y,time,time,fk_id.loc[0,'id']) \n",
    "                self.execute_sql(query)\n",
    "    except:\n",
    "        print(path)"
   ]
  },
  {
   "cell_type": "code",
   "execution_count": 33,
   "metadata": {},
   "outputs": [
    {
     "data": {
      "text/plain": [
       "\"CREATE TABLE datos (id int(255) NOT NULL,fecha date NOT NULL DEFAULT '1000-01-01 00:00:00',hora time NOT NULL DEFAULT '00:00:00',cliente int(255) NOT NULL,P1 float NOT NULL DEFAULT '-999',P2 float NOT NULL DEFAULT '-999',PR float NOT NULL DEFAULT '-999',calidad int(10) NULL DEFAULT '1',NI float NULL DEFAULT '-999',source varchar(1) NULL);\""
      ]
     },
     "execution_count": 33,
     "metadata": {},
     "output_type": "execute_result"
    }
   ],
   "source": [
    "remote.duplicate_existing_table('datos')"
   ]
  }
 ],
 "metadata": {
  "kernelspec": {
   "display_name": "Python 3",
   "language": "python",
   "name": "python3"
  },
  "language_info": {
   "codemirror_mode": {
    "name": "ipython",
    "version": 3
   },
   "file_extension": ".py",
   "mimetype": "text/x-python",
   "name": "python",
   "nbconvert_exporter": "python",
   "pygments_lexer": "ipython3",
   "version": "3.6.6"
  }
 },
 "nbformat": 4,
 "nbformat_minor": 2
}
