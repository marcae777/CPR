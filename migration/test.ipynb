{
 "cells": [
  {
   "cell_type": "code",
   "execution_count": 1,
   "metadata": {},
   "outputs": [
    {
     "name": "stderr",
     "output_type": "stream",
     "text": [
      "/usr/local/lib/python3.5/dist-packages/wmf/wmf.py:18: UserWarning: \n",
      "This call to matplotlib.use() has no effect because the backend has already\n",
      "been chosen; matplotlib.use() must be called *before* pylab, matplotlib.pyplot,\n",
      "or matplotlib.backends is imported for the first time.\n",
      "\n",
      "The backend was *originally* set to 'module://ipykernel.pylab.backend_inline' by the following code:\n",
      "  File \"/usr/lib/python3.5/runpy.py\", line 184, in _run_module_as_main\n",
      "    \"__main__\", mod_spec)\n",
      "  File \"/usr/lib/python3.5/runpy.py\", line 85, in _run_code\n",
      "    exec(code, run_globals)\n",
      "  File \"/home/alexa/.local/lib/python3.5/site-packages/ipykernel_launcher.py\", line 16, in <module>\n",
      "    app.launch_new_instance()\n",
      "  File \"/home/alexa/.local/lib/python3.5/site-packages/traitlets/config/application.py\", line 658, in launch_instance\n",
      "    app.start()\n",
      "  File \"/home/alexa/.local/lib/python3.5/site-packages/ipykernel/kernelapp.py\", line 497, in start\n",
      "    self.io_loop.start()\n",
      "  File \"/home/alexa/.local/lib/python3.5/site-packages/tornado/platform/asyncio.py\", line 132, in start\n",
      "    self.asyncio_loop.run_forever()\n",
      "  File \"/usr/lib/python3.5/asyncio/base_events.py\", line 345, in run_forever\n",
      "    self._run_once()\n",
      "  File \"/usr/lib/python3.5/asyncio/base_events.py\", line 1312, in _run_once\n",
      "    handle._run()\n",
      "  File \"/usr/lib/python3.5/asyncio/events.py\", line 125, in _run\n",
      "    self._callback(*self._args)\n",
      "  File \"/home/alexa/.local/lib/python3.5/site-packages/tornado/platform/asyncio.py\", line 122, in _handle_events\n",
      "    handler_func(fileobj, events)\n",
      "  File \"/home/alexa/.local/lib/python3.5/site-packages/tornado/stack_context.py\", line 300, in null_wrapper\n",
      "    return fn(*args, **kwargs)\n",
      "  File \"/home/alexa/.local/lib/python3.5/site-packages/zmq/eventloop/zmqstream.py\", line 450, in _handle_events\n",
      "    self._handle_recv()\n",
      "  File \"/home/alexa/.local/lib/python3.5/site-packages/zmq/eventloop/zmqstream.py\", line 480, in _handle_recv\n",
      "    self._run_callback(callback, msg)\n",
      "  File \"/home/alexa/.local/lib/python3.5/site-packages/zmq/eventloop/zmqstream.py\", line 432, in _run_callback\n",
      "    callback(*args, **kwargs)\n",
      "  File \"/home/alexa/.local/lib/python3.5/site-packages/tornado/stack_context.py\", line 300, in null_wrapper\n",
      "    return fn(*args, **kwargs)\n",
      "  File \"/home/alexa/.local/lib/python3.5/site-packages/ipykernel/kernelbase.py\", line 283, in dispatcher\n",
      "    return self.dispatch_shell(stream, msg)\n",
      "  File \"/home/alexa/.local/lib/python3.5/site-packages/ipykernel/kernelbase.py\", line 233, in dispatch_shell\n",
      "    handler(stream, idents, msg)\n",
      "  File \"/home/alexa/.local/lib/python3.5/site-packages/ipykernel/kernelbase.py\", line 399, in execute_request\n",
      "    user_expressions, allow_stdin)\n",
      "  File \"/home/alexa/.local/lib/python3.5/site-packages/ipykernel/ipkernel.py\", line 208, in do_execute\n",
      "    res = shell.run_cell(code, store_history=store_history, silent=silent)\n",
      "  File \"/home/alexa/.local/lib/python3.5/site-packages/ipykernel/zmqshell.py\", line 537, in run_cell\n",
      "    return super(ZMQInteractiveShell, self).run_cell(*args, **kwargs)\n",
      "  File \"/home/alexa/.local/lib/python3.5/site-packages/IPython/core/interactiveshell.py\", line 2662, in run_cell\n",
      "    raw_cell, store_history, silent, shell_futures)\n",
      "  File \"/home/alexa/.local/lib/python3.5/site-packages/IPython/core/interactiveshell.py\", line 2785, in _run_cell\n",
      "    interactivity=interactivity, compiler=compiler, result=result)\n",
      "  File \"/home/alexa/.local/lib/python3.5/site-packages/IPython/core/interactiveshell.py\", line 2901, in run_ast_nodes\n",
      "    if self.run_code(code, result):\n",
      "  File \"/home/alexa/.local/lib/python3.5/site-packages/IPython/core/interactiveshell.py\", line 2961, in run_code\n",
      "    exec(code_obj, self.user_global_ns, self.user_ns)\n",
      "  File \"<ipython-input-1-a4afcb90038f>\", line 1, in <module>\n",
      "    from cpr.Nivel import Nivel\n",
      "  File \"/usr/local/lib/python3.5/dist-packages/cpr/Nivel.py\", line 15, in <module>\n",
      "    import matplotlib.pyplot as plt\n",
      "  File \"/usr/lib/python3/dist-packages/matplotlib/pyplot.py\", line 71, in <module>\n",
      "    from matplotlib.backends import pylab_setup\n",
      "  File \"/usr/lib/python3/dist-packages/matplotlib/backends/__init__.py\", line 16, in <module>\n",
      "    line for line in traceback.format_stack()\n",
      "\n",
      "\n",
      "  matplotlib.use('Agg')\n"
     ]
    },
    {
     "ename": "TypeError",
     "evalue": "metaclass conflict: the metaclass of a derived class must be a (non-strict) subclass of the metaclasses of all its bases",
     "output_type": "error",
     "traceback": [
      "\u001b[0;31m---------------------------------------------------------------------------\u001b[0m",
      "\u001b[0;31mTypeError\u001b[0m                                 Traceback (most recent call last)",
      "\u001b[0;32m<ipython-input-1-a4afcb90038f>\u001b[0m in \u001b[0;36m<module>\u001b[0;34m()\u001b[0m\n\u001b[0;32m----> 1\u001b[0;31m \u001b[0;32mfrom\u001b[0m \u001b[0mcpr\u001b[0m\u001b[0;34m.\u001b[0m\u001b[0mNivel\u001b[0m \u001b[0;32mimport\u001b[0m \u001b[0mNivel\u001b[0m\u001b[0;34m\u001b[0m\u001b[0m\n\u001b[0m\u001b[1;32m      2\u001b[0m \u001b[0;32mimport\u001b[0m \u001b[0mcpr\u001b[0m\u001b[0;34m.\u001b[0m\u001b[0minformation\u001b[0m \u001b[0;32mas\u001b[0m \u001b[0minfo\u001b[0m\u001b[0;34m\u001b[0m\u001b[0m\n",
      "\u001b[0;32m/usr/local/lib/python3.5/dist-packages/cpr/Nivel.py\u001b[0m in \u001b[0;36m<module>\u001b[0;34m()\u001b[0m\n\u001b[1;32m     29\u001b[0m \u001b[0mplt\u001b[0m\u001b[0;34m.\u001b[0m\u001b[0mrc\u001b[0m\u001b[0;34m(\u001b[0m\u001b[0;34m'ytick'\u001b[0m\u001b[0;34m,\u001b[0m\u001b[0mcolor\u001b[0m\u001b[0;34m=\u001b[0m\u001b[0mtypColor\u001b[0m\u001b[0;34m)\u001b[0m\u001b[0;34m\u001b[0m\u001b[0m\n\u001b[1;32m     30\u001b[0m \u001b[0;34m\u001b[0m\u001b[0m\n\u001b[0;32m---> 31\u001b[0;31m \u001b[0;32mclass\u001b[0m \u001b[0mNivel\u001b[0m\u001b[0;34m(\u001b[0m\u001b[0mSqlDb\u001b[0m\u001b[0;34m,\u001b[0m\u001b[0mwmf\u001b[0m\u001b[0;34m.\u001b[0m\u001b[0mSimuBasin\u001b[0m\u001b[0;34m)\u001b[0m\u001b[0;34m:\u001b[0m\u001b[0;34m\u001b[0m\u001b[0m\n\u001b[0m\u001b[1;32m     32\u001b[0m     \u001b[0;34m''' Provide functions to manipulate data related to a level sensor and its basin '''\u001b[0m\u001b[0;34m\u001b[0m\u001b[0m\n\u001b[1;32m     33\u001b[0m     \u001b[0mlocal_table\u001b[0m  \u001b[0;34m=\u001b[0m \u001b[0;34m'estaciones_estaciones'\u001b[0m\u001b[0;34m\u001b[0m\u001b[0m\n",
      "\u001b[0;31mTypeError\u001b[0m: metaclass conflict: the metaclass of a derived class must be a (non-strict) subclass of the metaclasses of all its bases"
     ]
    }
   ],
   "source": [
    "from cpr.Nivel import Nivel\n",
    "import cpr.information as info"
   ]
  },
  {
   "cell_type": "code",
   "execution_count": 2,
   "metadata": {},
   "outputs": [],
   "source": [
    "self = Nivel(codigo=93,**info.REMOTE)"
   ]
  },
  {
   "cell_type": "code",
   "execution_count": 3,
   "metadata": {},
   "outputs": [
    {
     "data": {
      "text/html": [
       "<div>\n",
       "<style scoped>\n",
       "    .dataframe tbody tr th:only-of-type {\n",
       "        vertical-align: middle;\n",
       "    }\n",
       "\n",
       "    .dataframe tbody tr th {\n",
       "        vertical-align: top;\n",
       "    }\n",
       "\n",
       "    .dataframe thead th {\n",
       "        text-align: right;\n",
       "    }\n",
       "</style>\n",
       "<table border=\"1\" class=\"dataframe\">\n",
       "  <thead>\n",
       "    <tr style=\"text-align: right;\">\n",
       "      <th></th>\n",
       "      <th>Tables_in_siata</th>\n",
       "    </tr>\n",
       "  </thead>\n",
       "  <tbody>\n",
       "    <tr>\n",
       "      <th>0</th>\n",
       "      <td>datos</td>\n",
       "    </tr>\n",
       "    <tr>\n",
       "      <th>1</th>\n",
       "      <td>estaciones</td>\n",
       "    </tr>\n",
       "  </tbody>\n",
       "</table>\n",
       "</div>"
      ],
      "text/plain": [
       "  Tables_in_siata\n",
       "0           datos\n",
       "1      estaciones"
      ]
     },
     "execution_count": 3,
     "metadata": {},
     "output_type": "execute_result"
    }
   ],
   "source": [
    "self.read_sql('show tables;')"
   ]
  },
  {
   "cell_type": "code",
   "execution_count": 4,
   "metadata": {},
   "outputs": [
    {
     "data": {
      "text/plain": [
       "{'dbname': 'cpr',\n",
       " 'host': 'localhost',\n",
       " 'passwd': 's@mple_p@ss',\n",
       " 'port': 3306,\n",
       " 'table': 'estaciones',\n",
       " 'user': 'sample_user'}"
      ]
     },
     "execution_count": 4,
     "metadata": {},
     "output_type": "execute_result"
    }
   ],
   "source": [
    "info.LOCAL"
   ]
  },
  {
   "cell_type": "code",
   "execution_count": 14,
   "metadata": {},
   "outputs": [],
   "source": [
    "self = Nivel(codigo=90,SimuBasin=True,**info.LOCAL)"
   ]
  },
  {
   "cell_type": "code",
   "execution_count": 20,
   "metadata": {},
   "outputs": [],
   "source": [
    "from wmf import wmf"
   ]
  },
  {
   "cell_type": "code",
   "execution_count": 23,
   "metadata": {},
   "outputs": [],
   "source": [
    "wmf.models.show_storage = 0\n",
    "wmf.models.show_mean_speed = 0\n",
    "wmf.models.retorno = 1\n",
    "wmf.models.separate_fluxes = 1\n",
    "wmf.models.sim_sediments = 0\n",
    "wmf.models.show_mean_speed = 1\n",
    "wmf.models.show_speed = 1"
   ]
  },
  {
   "cell_type": "code",
   "execution_count": 32,
   "metadata": {},
   "outputs": [],
   "source": [
    "inicio = '2015-08-01 00:00:00'\n",
    "fin = '2015-08-12 00:00:00'\n",
    "rain_hdr = '/home/alexa/Escritorio/Ejemplo/Campo_radar_08_2015.hdr'\n",
    "\n",
    "rain_2015 = wmf.read_rain_struct(rain_hdr)\n",
    "sl1 = rain_2015.index.get_loc(inicio)\n",
    "\n",
    "sl2=rain_2015.index.get_loc(fin) \n",
    "n_intervals = sl2-sl1\n",
    "\n",
    "Calibracion = [5.0, 2.0, 10.0, 0.0, 0.008, 5.0, 2.3, 2.0, 1.0, 1.0]\n",
    "rain_rute = '/home/alexa/Escritorio/Ejemplo/Campo_radar_08_2015.bin'\n",
    "\n",
    "Run = self.run_shia(Calibracion,\n",
    "             rain_rute,\n",
    "             N_intervals = n_intervals,\n",
    "             start_point = sl1,\n",
    "             EvpVariable = True)"
   ]
  },
  {
   "cell_type": "code",
   "execution_count": 36,
   "metadata": {},
   "outputs": [
    {
     "data": {
      "text/plain": [
       "{'Balance': array([-5.68353867e+04,  1.75261387e+04,  1.06843628e+03, -1.91688828e+04,\n",
       "        -2.68511499e+03, -4.96228467e+03, -2.89847070e+04,  4.12768860e+02,\n",
       "         9.14173340e+02, -1.65103308e+03,  1.49935364e+03, -1.21453394e+03,\n",
       "         1.53895984e+03,  1.49155432e+03,  9.87812866e+02,  5.12117554e+02,\n",
       "         4.84401184e+02,  4.54422852e+02,  1.79224866e+03,  4.48704262e+01,\n",
       "        -2.88502991e+02,  6.18823433e+00, -1.83049026e+02, -1.40021155e+03,\n",
       "         2.27011871e+01, -7.43120575e+01, -8.32537918e+01, -1.04127350e+02,\n",
       "        -1.29364910e+01, -4.96852608e+01, -9.97288147e+02,  4.91571777e+02,\n",
       "         9.68196228e+02,  1.07043860e+03,  2.12053271e+03,  1.52280090e+03,\n",
       "         1.81261951e+03,  1.77771277e+03,  8.42548218e+02,  7.07547363e+02,\n",
       "         8.12434143e+02,  4.27046509e+02, -4.10571136e+02,  1.96090652e+02,\n",
       "        -1.00167603e+02, -1.64411118e+02, -8.72640198e+02, -2.73282373e+03,\n",
       "        -3.21451797e+04,  4.45077344e+04, -5.34163094e+01,  1.44224491e+01,\n",
       "        -7.77270584e+01,  2.19413428e+03, -2.77137559e+04,  4.76624146e+02,\n",
       "         9.46624329e+02,  1.19814978e+03,  1.30129370e+03,  1.84828162e+03,\n",
       "         1.74653271e+03,  1.47596777e+03,  8.96680664e+02,  9.81290771e+02,\n",
       "         7.21658936e+02,  6.07609558e+02, -3.62763123e+02,  3.68976166e+02,\n",
       "         4.04493042e+03,  1.00888084e+02, -7.51512985e+01, -6.71878586e+01,\n",
       "        -2.32217598e+01,  1.67468300e+01, -1.92822399e+01,  4.76690887e+02,\n",
       "        -1.07333908e+02, -8.95356750e+02,  1.59391327e+01,  4.07040161e+02,\n",
       "         1.01773016e+03,  1.19383008e+03,  1.03743848e+03,  1.67337646e+01,\n",
       "         1.68316162e+03,  1.02456763e+03,  3.53064575e+02,  5.29385254e+02,\n",
       "         6.09306458e+02,  4.38712341e+02, -2.82244225e+01, -1.51518631e+02,\n",
       "        -6.43521545e+02, -1.11523712e+02, -5.15251007e+01, -4.75257950e+01,\n",
       "        -3.15258350e+01, -1.31525253e+02, -4.75240784e+01,  2.24477676e+02,\n",
       "        -2.51519989e+02, -1.43517090e+02,  2.28616409e+01,  2.50609924e+02,\n",
       "         1.05392334e+03,  1.24256580e+03,  1.47457031e+03,  1.45417126e+03,\n",
       "         1.18865564e+03,  1.69000110e+03,  8.34264771e+02,  5.46218750e+02,\n",
       "         1.97616455e+02,  1.18434509e+02, -2.85135681e+02,  1.25088263e+01,\n",
       "        -8.74969330e+01, -1.43502518e+02, -5.15075340e+01, -2.75511688e+02,\n",
       "        -5.55147476e+01, -7.55165329e+01, -2.35169144e+01, -2.95515808e+02,\n",
       "         2.84486908e+02, -1.63508759e+02, -6.30084106e+02,  3.70310425e+02,\n",
       "         7.94188049e+02,  1.14740088e+03,  1.45179846e+03,  3.51673462e+02,\n",
       "        -2.25778760e+03,  2.79495483e+02,  1.46755725e+03,  1.17113599e+03,\n",
       "         8.90009399e+02,  4.18283691e+02, -1.53880737e+02, -1.79241013e+02,\n",
       "         9.67957840e+01, -1.11164619e+02, -7.11221466e+01, -2.23076691e+02,\n",
       "        -2.30281944e+01,  1.34902344e+03, -1.42921692e+02,  5.69136475e+02,\n",
       "        -6.86563184e+03,  2.16164941e+04, -1.15805293e+04,  3.15607361e+02,\n",
       "         8.08763245e+02,  1.27507898e+03,  1.52834460e+03,  1.78075598e+03,\n",
       "         1.95158679e+03,  1.39273059e+03,  9.52398438e+02,  1.18325317e+03,\n",
       "         5.41165649e+02,  5.20324646e+02, -1.57050690e+02, -5.85438782e+02,\n",
       "        -1.28531763e+03, -2.34519263e+03, -1.56906409e+03,  3.51351797e+04,\n",
       "         3.79943281e+04, -3.96621973e+03, -6.43801465e+03, -1.06614941e+04,\n",
       "        -9.36219971e+02, -2.26806812e+03, -3.62236172e+04, -4.17299219e+03,\n",
       "        -8.00373535e+03, -4.89256836e+03,  7.74369141e+02, -4.64868457e+03,\n",
       "         9.36692993e+02,  4.69194141e+03,  1.32300171e+03, -4.27351318e+02,\n",
       "         3.01790710e+02,  2.80048584e+02, -5.43128052e+01, -1.69697372e+02,\n",
       "         3.50483215e+02, -1.69335587e+02,  2.16917725e+03, -8.26978418e+03,\n",
       "        -1.57954150e+04, -3.61934844e+04, -9.07330078e+03,  5.06363037e+03,\n",
       "         4.35931152e+03, -4.16725781e+03, -3.96947383e+04, -1.22215557e+04,\n",
       "        -1.74692129e+04,  2.58366650e+03,  8.27117065e+02,  4.31079785e+03,\n",
       "         1.62422803e+03,  1.54513977e+03,  6.96224976e+02,  4.10021118e+02,\n",
       "         3.78531860e+02,  4.44057434e+02, -7.50897141e+01, -2.95023270e+01,\n",
       "        -9.33471985e+01, -2.93194550e+02, -9.30444717e+01,  4.21110303e+03,\n",
       "         7.69347021e+03, -1.32610260e+02,  1.92627090e+02,  3.19422388e+03,\n",
       "         1.77397058e+03, -2.58957080e+03, -2.63526660e+04,  7.00805359e+02,\n",
       "         8.37721497e+02,  1.11817078e+03,  1.63124731e+03,  2.09951758e+03,\n",
       "         1.42689172e+03,  5.65042236e+02,  2.16533228e+03,  1.11851648e+03,\n",
       "        -1.44197900e+03,  4.87006226e+02, -3.26455347e+03,  6.60087500e+03,\n",
       "         2.29506909e+03,  4.01329126e+03, -9.73692383e+02,  4.38007080e+03,\n",
       "         2.69258105e+03,  6.99633838e+03, -7.80938171e+02,  1.42758213e+04,\n",
       "        -6.01906494e+02, -3.93847961e+02, -2.56892188e+04,  2.71986450e+02,\n",
       "         3.15237988e+03,  1.23339429e+03,  3.21684180e+03,  1.49039819e+03,\n",
       "         2.26580029e+03,  2.01034143e+03,  1.16066541e+03,  1.13726562e+03,\n",
       "         6.48331421e+02,  4.64160828e+02, -1.76771484e+02, -9.72990189e+01,\n",
       "        -4.17277405e+02, -3.85257874e+02, -8.25240417e+02, -6.97224915e+02],\n",
       "       dtype=float32),\n",
       " 'Fluxes': array([[[-4.0233728e-05, -6.7349189e-05, -8.4992338e-05, ...,\n",
       "          -5.9314472e-05, -5.9316553e-05, -5.9318209e-05],\n",
       "         [ 1.3175008e-41,  2.2055037e-41,  2.7832590e-41, ...,\n",
       "           1.9423398e-41,  1.9423398e-41,  1.9424799e-41],\n",
       "         [-8.9045463e-04, -1.4905750e-03, -1.8810550e-03, ...,\n",
       "          -1.3127509e-03, -1.3127963e-03, -1.3128335e-03]],\n",
       " \n",
       "        [[-8.7915447e-07, -1.7466999e-06, -2.5573399e-06, ...,\n",
       "           0.0000000e+00,  0.0000000e+00,  0.0000000e+00],\n",
       "         [ 2.8726619e-43,  5.7172977e-43,  8.3797648e-43, ...,\n",
       "           0.0000000e+00,  0.0000000e+00,  0.0000000e+00],\n",
       "         [-1.9457486e-05, -3.8658047e-05, -5.6599161e-05, ...,\n",
       "           0.0000000e+00,  0.0000000e+00,  0.0000000e+00]],\n",
       " \n",
       "        [[-1.3549623e-06, -2.5134216e-06, -3.4178788e-06, ...,\n",
       "           0.0000000e+00,  0.0000000e+00,  0.0000000e+00],\n",
       "         [ 4.4421161e-43,  8.2256220e-43,  1.1196375e-42, ...,\n",
       "           0.0000000e+00,  0.0000000e+00,  0.0000000e+00],\n",
       "         [-2.9988088e-05, -5.5627159e-05, -7.5644653e-05, ...,\n",
       "           0.0000000e+00,  0.0000000e+00,  0.0000000e+00]],\n",
       " \n",
       "        ...,\n",
       " \n",
       "        [[-5.1971642e-06, -6.1186884e-06, -6.3316420e-06, ...,\n",
       "           0.0000000e+00,  0.0000000e+00,  0.0000000e+00],\n",
       "         [ 1.7011763e-42,  2.0038568e-42,  2.0739217e-42, ...,\n",
       "           0.0000000e+00,  0.0000000e+00,  0.0000000e+00],\n",
       "         [-1.1502386e-04, -1.3541909e-04, -1.4013218e-04, ...,\n",
       "           0.0000000e+00,  0.0000000e+00,  0.0000000e+00]],\n",
       " \n",
       "        [[-1.1721680e-05, -2.4937743e-05, -3.9340921e-05, ...,\n",
       "           0.0000000e+00,  0.0000000e+00,  0.0000000e+00],\n",
       "         [ 3.8381565e-42,  8.1667675e-42,  1.2882137e-41, ...,\n",
       "           0.0000000e+00,  0.0000000e+00,  0.0000000e+00],\n",
       "         [-2.5942473e-04, -5.5192329e-04, -8.7069493e-04, ...,\n",
       "           0.0000000e+00,  0.0000000e+00,  0.0000000e+00]],\n",
       " \n",
       "        [[-4.0233728e-05, -6.7349189e-05, -8.4992338e-05, ...,\n",
       "          -5.9314472e-05, -5.9316553e-05, -5.9318209e-05],\n",
       "         [ 1.3175008e-41,  2.2055037e-41,  2.7832590e-41, ...,\n",
       "           1.9423398e-41,  1.9423398e-41,  1.9424799e-41],\n",
       "         [-8.9045463e-04, -1.4905750e-03, -1.8810550e-03, ...,\n",
       "          -1.3127509e-03, -1.3127963e-03, -1.3128335e-03]]], dtype=float32),\n",
       " 'Mean_Speed': array([[ 0.,  0.,  0., ...,  0.,  0.,  0.],\n",
       "        [ 0.,  0.,  0., ...,  0.,  0.,  0.],\n",
       "        [ 0.,  0.,  0., ...,  0.,  0.,  0.],\n",
       "        [nan, nan, nan, ..., nan, nan, nan]], dtype=float32),\n",
       " 'Qsim': array([[ 6.5044680e+00,  4.5807004e+00,  3.0199366e+00, ...,\n",
       "          7.8624690e-01,  7.8717864e-01,  7.8800368e-01],\n",
       "        [ 5.4039469e-06,  4.6830733e-06,  3.8856188e-06, ...,\n",
       "         -2.3880314e-04, -2.3880314e-04, -2.3880314e-04],\n",
       "        [ 8.3286222e-06,  6.3908228e-06,  4.5297825e-06, ...,\n",
       "         -7.4625947e-05, -7.4625947e-05, -7.4625947e-05],\n",
       "        ...,\n",
       "        [ 3.6956120e-02,  1.0089500e-02,  3.4356713e-03, ...,\n",
       "         -3.1932864e-02, -3.1932864e-02, -3.1932864e-02],\n",
       "        [ 2.1098077e+00,  2.1643264e+00,  2.3047450e+00, ...,\n",
       "          8.3284801e-01,  8.3245790e-01,  8.3199382e-01],\n",
       "        [ 6.5044680e+00,  4.5807004e+00,  3.0199366e+00, ...,\n",
       "          7.8624690e-01,  7.8717864e-01,  7.8800368e-01]], dtype=float32),\n",
       " 'Rain_Acum': array([[ 72.776  ,  72.776  ,  74.33599, ..., 163.144  , 163.144  ,\n",
       "         163.144  ]], dtype=float32),\n",
       " 'Rain_hietogram': array([[2.4818404 , 6.2972665 , 5.067098  , 1.018746  , 0.5209063 ,\n",
       "         0.        , 0.        , 0.        , 0.        , 0.        ,\n",
       "         0.        , 0.        , 0.        , 0.        , 0.        ,\n",
       "         0.        , 0.        , 0.        , 0.        , 0.        ,\n",
       "         0.        , 0.        , 0.        , 0.        , 0.        ,\n",
       "         0.        , 0.        , 0.        , 0.        , 0.        ,\n",
       "         0.        , 0.        , 0.        , 0.        , 0.        ,\n",
       "         0.        , 0.        , 0.        , 0.        , 0.        ,\n",
       "         0.        , 0.        , 0.        , 0.        , 0.        ,\n",
       "         0.        , 0.        , 1.3966528 , 6.6587815 , 0.44422793,\n",
       "         0.        , 0.        , 0.        , 0.        , 0.        ,\n",
       "         0.        , 0.        , 0.        , 0.        , 0.        ,\n",
       "         0.        , 0.        , 0.        , 0.        , 0.        ,\n",
       "         0.        , 0.        , 0.        , 0.        , 0.        ,\n",
       "         0.        , 0.        , 0.        , 0.        , 0.        ,\n",
       "         0.        , 0.        , 0.        , 0.        , 0.        ,\n",
       "         0.        , 0.        , 0.        , 0.        , 0.        ,\n",
       "         0.        , 0.        , 0.        , 0.        , 0.        ,\n",
       "         0.        , 0.        , 0.        , 0.        , 0.        ,\n",
       "         0.        , 0.        , 0.        , 0.        , 0.        ,\n",
       "         0.        , 0.        , 0.        , 0.        , 0.        ,\n",
       "         0.        , 0.        , 0.        , 0.        , 0.        ,\n",
       "         0.        , 0.        , 0.        , 0.        , 0.        ,\n",
       "         0.        , 0.        , 0.        , 0.        , 0.        ,\n",
       "         0.        , 0.        , 0.        , 0.        , 0.        ,\n",
       "         0.        , 0.        , 0.        , 0.        , 0.        ,\n",
       "         0.        , 0.        , 0.        , 0.        , 0.        ,\n",
       "         0.        , 0.        , 0.        , 0.        , 0.        ,\n",
       "         0.        , 0.        , 0.        , 0.        , 0.        ,\n",
       "         0.        , 0.        , 0.        , 0.11958294, 0.22404492,\n",
       "         0.71812624, 0.        , 0.        , 0.        , 0.        ,\n",
       "         0.        , 0.        , 0.        , 0.        , 0.        ,\n",
       "         0.        , 0.        , 0.        , 0.        , 0.        ,\n",
       "         0.        , 0.        , 0.3254053 , 3.8708725 , 3.7796557 ,\n",
       "         5.655806  , 2.1076958 , 0.        , 0.        , 0.34316516,\n",
       "         0.09851513, 1.0849818 , 5.896402  , 3.9400525 , 2.144035  ,\n",
       "         1.2013872 , 0.42113248, 0.01110373, 0.        , 0.        ,\n",
       "         0.        , 0.        , 0.        , 0.        , 0.        ,\n",
       "         0.05873018, 3.3156314 , 5.376076  , 6.802633  , 5.0655575 ,\n",
       "         7.531429  , 2.84347   , 2.0833883 , 1.4696774 , 2.3834364 ,\n",
       "         1.8928045 , 0.40831447, 0.06012889, 0.02559276, 0.        ,\n",
       "         0.        , 0.        , 0.        , 0.        , 0.        ,\n",
       "         0.        , 0.        , 0.        , 0.        , 0.        ,\n",
       "         0.        , 0.12693544, 0.        , 0.0132866 , 0.3219046 ,\n",
       "         0.74751437, 0.35165676, 0.02874098, 0.01452142, 0.        ,\n",
       "         0.        , 0.02328569, 0.08145191, 0.01621412, 0.0241061 ,\n",
       "         0.        , 0.        , 0.07851133, 0.        , 0.3117102 ,\n",
       "         0.48619696, 0.8351291 , 3.0036554 , 7.2834864 , 2.6485245 ,\n",
       "         6.265738  , 4.7215304 , 2.49091   , 0.6278072 , 0.        ,\n",
       "         0.        , 0.        , 0.        , 0.        , 0.        ,\n",
       "         0.        , 0.        , 0.        , 0.        , 0.        ,\n",
       "         0.        , 0.        , 0.        , 0.        , 0.        ,\n",
       "         0.        , 0.        , 0.        , 0.        ]], dtype=float32),\n",
       " 'Speed': array([[4.2379117 , 3.8881714 , 3.5107787 , ..., 2.5243766 , 2.5251095 ,\n",
       "         2.525758  ],\n",
       "        [0.10460684, 0.10125459, 0.09672987, ...,        nan,        nan,\n",
       "                nan],\n",
       "        [0.17108952, 0.16069795, 0.1477064 , ...,        nan,        nan,\n",
       "                nan],\n",
       "        ...,\n",
       "        [2.1388845 , 1.5563446 , 1.1951979 , ...,        nan,        nan,\n",
       "                nan],\n",
       "        [1.5222963 , 1.5321583 , 1.5559396 , ...,        nan,        nan,\n",
       "                nan],\n",
       "        [4.2379117 , 3.8881714 , 3.5107787 , ..., 2.5243766 , 2.5251095 ,\n",
       "         2.525758  ]], dtype=float32),\n",
       " 'Storage': array([[108.931595 , 108.931595 , 108.931595 , ..., 106.418    ,\n",
       "         106.41776  , 106.417656 ],\n",
       "        [ 44.73099  ,  44.73096  ,  45.904694 , ..., 154.09766  ,\n",
       "         154.05829  , 154.0575   ],\n",
       "        [ 22.786978 ,  22.786901 ,  23.173176 , ...,   4.4966173,\n",
       "           6.496623 ,   5.49662  ],\n",
       "        [ 44.435974 ,  23.436039 ,  46.435974 , ..., 109.23759  ,\n",
       "         241.6021   , 268.4244   ],\n",
       "        [  1.001    ,   1.001    ,   1.001    , ...,   1.001    ,\n",
       "           5.517337 ,   5.5152016]], dtype=float32)}"
      ]
     },
     "execution_count": 36,
     "metadata": {},
     "output_type": "execute_result"
    }
   ],
   "source": [
    "Run[0]"
   ]
  },
  {
   "cell_type": "code",
   "execution_count": 15,
   "metadata": {},
   "outputs": [
    {
     "data": {
      "image/png": "[encoded data removed]",
      "text/plain": [
       "<Figure size 720x504 with 1 Axes>"
      ]
     },
     "metadata": {},
     "output_type": "display_data"
    },
    {
     "data": {
      "text/plain": [
       "(<mpl_toolkits.basemap.Basemap at 0x7fbab9155090>,\n",
       " <matplotlib.axes._subplots.AxesSubplot at 0x7fbab918e650>)"
      ]
     },
     "execution_count": 15,
     "metadata": {},
     "output_type": "execute_result"
    }
   ],
   "source": [
    "self.Plot_basin()"
   ]
  },
  {
   "cell_type": "code",
   "execution_count": 7,
   "metadata": {},
   "outputs": [],
   "source": [
    "start = '2018-04-15 15:00'\n",
    "end = '2018-04-15 23:00'"
   ]
  },
  {
   "cell_type": "code",
   "execution_count": 8,
   "metadata": {},
   "outputs": [
    {
     "name": "stdout",
     "output_type": "stream",
     "text": [
      "WARNING: converting rain data, it may take a while\n"
     ]
    },
    {
     "data": {
      "text/plain": [
       "<matplotlib.axes._subplots.AxesSubplot at 0x7fbab9237210>"
      ]
     },
     "execution_count": 8,
     "metadata": {},
     "output_type": "execute_result"
    },
    {
     "data": {
      "image/png": "[encoded data removed]",
      "text/plain": [
       "<Figure size 432x288 with 1 Axes>"
      ]
     },
     "metadata": {},
     "output_type": "display_data"
    }
   ],
   "source": [
    "kwargs =  {\n",
    "        'start':start,\n",
    "        'end':end,\n",
    "        'cuenca':self.nc_path,\n",
    "        'rutaNc':self.radar_path,\n",
    "        'rutaRes':self.rain_path+self.file_format(start,end),\n",
    "        'dt':300,\n",
    "        'umbral': 0.005,\n",
    "        'verbose':True,\n",
    "        'super_verbose':True,\n",
    "        'old':None,\n",
    "        'save_class':None,\n",
    "        'store_true':None,\n",
    "        'save_escenarios':None,\n",
    "        'store_true':None,\n",
    "       }\n",
    "\n",
    "self.radar_rain(start,end).plot()"
   ]
  },
  {
   "cell_type": "code",
   "execution_count": 10,
   "metadata": {},
   "outputs": [
    {
     "data": {
      "text/plain": [
       "2018-04-15 15:00:00    50.38\n",
       "2018-04-15 15:01:00    50.81\n",
       "2018-04-15 15:02:00    50.59\n",
       "2018-04-15 15:03:00    51.02\n",
       "2018-04-15 15:04:00    50.59\n",
       "2018-04-15 15:05:00    50.28\n",
       "2018-04-15 15:06:00    51.02\n",
       "2018-04-15 15:07:00    50.49\n",
       "2018-04-15 15:08:00    50.70\n",
       "2018-04-15 15:09:00    50.17\n",
       "2018-04-15 15:10:00    50.91\n",
       "2018-04-15 15:11:00    50.81\n",
       "2018-04-15 15:12:00    50.38\n",
       "2018-04-15 15:13:00    50.81\n",
       "2018-04-15 15:14:00    51.02\n",
       "2018-04-15 15:15:00    50.59\n",
       "2018-04-15 15:16:00    50.49\n",
       "2018-04-15 15:17:00    50.38\n",
       "2018-04-15 15:18:00    50.70\n",
       "2018-04-15 15:19:00    50.38\n",
       "2018-04-15 15:20:00    50.38\n",
       "2018-04-15 15:21:00    49.54\n",
       "2018-04-15 15:22:00    50.07\n",
       "2018-04-15 15:23:00    50.49\n",
       "2018-04-15 15:24:00    49.65\n",
       "2018-04-15 15:25:00    50.28\n",
       "2018-04-15 15:26:00    49.75\n",
       "2018-04-15 15:27:00    50.38\n",
       "2018-04-15 15:28:00    50.17\n",
       "2018-04-15 15:29:00    50.59\n",
       "                       ...  \n",
       "2018-04-15 22:31:00    48.59\n",
       "2018-04-15 22:32:00    48.49\n",
       "2018-04-15 22:33:00    49.12\n",
       "2018-04-15 22:34:00    49.01\n",
       "2018-04-15 22:35:00    48.28\n",
       "2018-04-15 22:36:00    48.49\n",
       "2018-04-15 22:37:00    49.01\n",
       "2018-04-15 22:38:00    49.01\n",
       "2018-04-15 22:39:00    48.70\n",
       "2018-04-15 22:40:00    48.70\n",
       "2018-04-15 22:41:00    48.80\n",
       "2018-04-15 22:42:00    49.12\n",
       "2018-04-15 22:43:00    49.12\n",
       "2018-04-15 22:44:00    48.49\n",
       "2018-04-15 22:45:00    48.80\n",
       "2018-04-15 22:46:00    49.33\n",
       "2018-04-15 22:47:00    48.80\n",
       "2018-04-15 22:48:00    48.91\n",
       "2018-04-15 22:49:00    48.59\n",
       "2018-04-15 22:50:00    48.91\n",
       "2018-04-15 22:51:00    49.12\n",
       "2018-04-15 22:52:00    48.70\n",
       "2018-04-15 22:53:00    49.44\n",
       "2018-04-15 22:54:00    49.33\n",
       "2018-04-15 22:55:00    49.44\n",
       "2018-04-15 22:56:00    49.33\n",
       "2018-04-15 22:57:00    48.70\n",
       "2018-04-15 22:58:00    49.12\n",
       "2018-04-15 22:59:00    48.80\n",
       "2018-04-15 23:00:00    49.12\n",
       "Freq: T, Name: NI, Length: 481, dtype: float64"
      ]
     },
     "execution_count": 10,
     "metadata": {},
     "output_type": "execute_result"
    }
   ],
   "source": [
    "self.level(start,end)"
   ]
  },
  {
   "cell_type": "code",
   "execution_count": 11,
   "metadata": {},
   "outputs": [
    {
     "data": {
      "text/plain": [
       "2018-04-15 15:00:00    906.02\n",
       "2018-04-15 15:01:00    905.59\n",
       "2018-04-15 15:02:00    905.81\n",
       "2018-04-15 15:03:00    905.38\n",
       "2018-04-15 15:04:00    905.81\n",
       "2018-04-15 15:05:00    906.12\n",
       "2018-04-15 15:06:00    905.38\n",
       "2018-04-15 15:07:00    905.91\n",
       "2018-04-15 15:08:00    905.70\n",
       "2018-04-15 15:09:00    906.23\n",
       "2018-04-15 15:10:00    905.49\n",
       "2018-04-15 15:11:00    905.59\n",
       "2018-04-15 15:12:00    906.02\n",
       "2018-04-15 15:13:00    905.59\n",
       "2018-04-15 15:14:00    905.38\n",
       "2018-04-15 15:15:00    905.81\n",
       "2018-04-15 15:16:00    905.91\n",
       "2018-04-15 15:17:00    906.02\n",
       "2018-04-15 15:18:00    905.70\n",
       "2018-04-15 15:19:00    906.02\n",
       "2018-04-15 15:20:00    906.02\n",
       "2018-04-15 15:21:00    906.86\n",
       "2018-04-15 15:22:00    906.33\n",
       "2018-04-15 15:23:00    905.91\n",
       "2018-04-15 15:24:00    906.75\n",
       "2018-04-15 15:25:00    906.12\n",
       "2018-04-15 15:26:00    906.65\n",
       "2018-04-15 15:27:00    906.02\n",
       "2018-04-15 15:28:00    906.23\n",
       "2018-04-15 15:29:00    905.81\n",
       "                        ...  \n",
       "2018-04-15 22:31:00    907.81\n",
       "2018-04-15 22:32:00    907.91\n",
       "2018-04-15 22:33:00    907.28\n",
       "2018-04-15 22:34:00    907.39\n",
       "2018-04-15 22:35:00    908.12\n",
       "2018-04-15 22:36:00    907.91\n",
       "2018-04-15 22:37:00    907.39\n",
       "2018-04-15 22:38:00    907.39\n",
       "2018-04-15 22:39:00    907.70\n",
       "2018-04-15 22:40:00    907.70\n",
       "2018-04-15 22:41:00    907.60\n",
       "2018-04-15 22:42:00    907.28\n",
       "2018-04-15 22:43:00    907.28\n",
       "2018-04-15 22:44:00    907.91\n",
       "2018-04-15 22:45:00    907.60\n",
       "2018-04-15 22:46:00    907.07\n",
       "2018-04-15 22:47:00    907.60\n",
       "2018-04-15 22:48:00    907.49\n",
       "2018-04-15 22:49:00    907.81\n",
       "2018-04-15 22:50:00    907.49\n",
       "2018-04-15 22:51:00    907.28\n",
       "2018-04-15 22:52:00    907.70\n",
       "2018-04-15 22:53:00    906.96\n",
       "2018-04-15 22:54:00    907.07\n",
       "2018-04-15 22:55:00    906.96\n",
       "2018-04-15 22:56:00    907.07\n",
       "2018-04-15 22:57:00    907.70\n",
       "2018-04-15 22:58:00    907.28\n",
       "2018-04-15 22:59:00    907.60\n",
       "2018-04-15 23:00:00    907.28\n",
       "Freq: T, Name: NI, Length: 481, dtype: float64"
      ]
     },
     "execution_count": 11,
     "metadata": {},
     "output_type": "execute_result"
    }
   ],
   "source": [
    "self.sensor(start,end)"
   ]
  },
  {
   "cell_type": "code",
   "execution_count": 13,
   "metadata": {},
   "outputs": [
    {
     "ename": "DatabaseError",
     "evalue": "Execution failed on sql 'select fecha,profundidad from myusers_hydrodata where codigo='93' and fecha between '2018-04-15 15:00' and '2018-04-15 23:00';': (1054, \"Unknown column 'profundidad' in 'field list'\")",
     "output_type": "error",
     "traceback": [
      "\u001b[0;31m---------------------------------------------------------------------------\u001b[0m",
      "\u001b[0;31mDatabaseError\u001b[0m                             Traceback (most recent call last)",
      "\u001b[0;32m<ipython-input-13-5e284142309c>\u001b[0m in \u001b[0;36m<module>\u001b[0;34m()\u001b[0m\n\u001b[0;32m----> 1\u001b[0;31m \u001b[0mself\u001b[0m\u001b[0;34m.\u001b[0m\u001b[0mlevel_local\u001b[0m\u001b[0;34m(\u001b[0m\u001b[0mstart\u001b[0m\u001b[0;34m,\u001b[0m\u001b[0mend\u001b[0m\u001b[0;34m)\u001b[0m\u001b[0;34m\u001b[0m\u001b[0m\n\u001b[0m",
      "\u001b[0;32m/usr/local/lib/python2.7/dist-packages/cpr/Nivel.pyc\u001b[0m in \u001b[0;36mlevel_local\u001b[0;34m(self, start, end, offset)\u001b[0m\n\u001b[1;32m    752\u001b[0m         \u001b[0mformat\u001b[0m \u001b[0;34m=\u001b[0m \u001b[0;34m(\u001b[0m\u001b[0mself\u001b[0m\u001b[0;34m.\u001b[0m\u001b[0mcodigo\u001b[0m\u001b[0;34m,\u001b[0m\u001b[0mstart\u001b[0m\u001b[0;34m,\u001b[0m\u001b[0mend\u001b[0m\u001b[0;34m)\u001b[0m\u001b[0;34m\u001b[0m\u001b[0m\n\u001b[1;32m    753\u001b[0m         \u001b[0mquery\u001b[0m \u001b[0;34m=\u001b[0m \u001b[0;34m\"select fecha,profundidad from myusers_hydrodata where codigo='%s' and fecha between '%s' and '%s';\"\u001b[0m\u001b[0;34m%\u001b[0m\u001b[0mformat\u001b[0m\u001b[0;34m\u001b[0m\u001b[0m\n\u001b[0;32m--> 754\u001b[0;31m         \u001b[0mlevel\u001b[0m \u001b[0;34m=\u001b[0m  \u001b[0;34m(\u001b[0m\u001b[0moffset\u001b[0m \u001b[0;34m-\u001b[0m \u001b[0mself\u001b[0m\u001b[0;34m.\u001b[0m\u001b[0mread_sql\u001b[0m\u001b[0;34m(\u001b[0m\u001b[0mquery\u001b[0m\u001b[0;34m)\u001b[0m\u001b[0;34m.\u001b[0m\u001b[0mset_index\u001b[0m\u001b[0;34m(\u001b[0m\u001b[0;34m'fecha'\u001b[0m\u001b[0;34m)\u001b[0m\u001b[0;34m[\u001b[0m\u001b[0;34m'nivel'\u001b[0m\u001b[0;34m]\u001b[0m\u001b[0;34m)\u001b[0m\u001b[0;34m\u001b[0m\u001b[0m\n\u001b[0m\u001b[1;32m    755\u001b[0m         \u001b[0mlevel\u001b[0m\u001b[0;34m[\u001b[0m\u001b[0mlevel\u001b[0m\u001b[0;34m>\u001b[0m\u001b[0mself\u001b[0m\u001b[0;34m.\u001b[0m\u001b[0mrisk_levels\u001b[0m\u001b[0;34m[\u001b[0m\u001b[0;34m-\u001b[0m\u001b[0;36m1\u001b[0m\u001b[0;34m]\u001b[0m\u001b[0;34m*\u001b[0m\u001b[0;36m1.2\u001b[0m\u001b[0;34m]\u001b[0m \u001b[0;34m=\u001b[0m \u001b[0mnp\u001b[0m\u001b[0;34m.\u001b[0m\u001b[0mNaN\u001b[0m\u001b[0;34m\u001b[0m\u001b[0m\n\u001b[1;32m    756\u001b[0m         \u001b[0mlevel\u001b[0m\u001b[0;34m[\u001b[0m\u001b[0mlevel\u001b[0m\u001b[0;34m>\u001b[0m\u001b[0moffset\u001b[0m\u001b[0;34m]\u001b[0m \u001b[0;34m=\u001b[0m \u001b[0mnp\u001b[0m\u001b[0;34m.\u001b[0m\u001b[0mNaN\u001b[0m\u001b[0;34m\u001b[0m\u001b[0m\n",
      "\u001b[0;32m/usr/local/lib/python2.7/dist-packages/cpr/SqlDb.pyc\u001b[0m in \u001b[0;36mread_sql\u001b[0;34m(self, sql, close_db, *keys, **kwargs)\u001b[0m\n\u001b[1;32m     71\u001b[0m         '''\n\u001b[1;32m     72\u001b[0m         \u001b[0mconn_db\u001b[0m \u001b[0;34m=\u001b[0m \u001b[0mMySQLdb\u001b[0m\u001b[0;34m.\u001b[0m\u001b[0mconnect\u001b[0m\u001b[0;34m(\u001b[0m\u001b[0mself\u001b[0m\u001b[0;34m.\u001b[0m\u001b[0mhost\u001b[0m\u001b[0;34m,\u001b[0m\u001b[0mself\u001b[0m\u001b[0;34m.\u001b[0m\u001b[0muser\u001b[0m\u001b[0;34m,\u001b[0m\u001b[0mself\u001b[0m\u001b[0;34m.\u001b[0m\u001b[0mpasswd\u001b[0m\u001b[0;34m,\u001b[0m\u001b[0mself\u001b[0m\u001b[0;34m.\u001b[0m\u001b[0mdbname\u001b[0m\u001b[0;34m)\u001b[0m\u001b[0;34m\u001b[0m\u001b[0m\n\u001b[0;32m---> 73\u001b[0;31m         \u001b[0mdf\u001b[0m \u001b[0;34m=\u001b[0m \u001b[0mpd\u001b[0m\u001b[0;34m.\u001b[0m\u001b[0mread_sql\u001b[0m\u001b[0;34m(\u001b[0m\u001b[0msql\u001b[0m\u001b[0;34m,\u001b[0m\u001b[0mconn_db\u001b[0m\u001b[0;34m,\u001b[0m\u001b[0;34m*\u001b[0m\u001b[0mkeys\u001b[0m\u001b[0;34m,\u001b[0m\u001b[0;34m**\u001b[0m\u001b[0mkwargs\u001b[0m\u001b[0;34m)\u001b[0m\u001b[0;34m\u001b[0m\u001b[0m\n\u001b[0m\u001b[1;32m     74\u001b[0m         \u001b[0;32mif\u001b[0m \u001b[0mclose_db\u001b[0m \u001b[0;34m==\u001b[0m \u001b[0mTrue\u001b[0m\u001b[0;34m:\u001b[0m\u001b[0;34m\u001b[0m\u001b[0m\n\u001b[1;32m     75\u001b[0m             \u001b[0mconn_db\u001b[0m\u001b[0;34m.\u001b[0m\u001b[0mclose\u001b[0m\u001b[0;34m(\u001b[0m\u001b[0;34m)\u001b[0m\u001b[0;34m\u001b[0m\u001b[0m\n",
      "\u001b[0;32m/usr/local/lib/python2.7/dist-packages/pandas/io/sql.pyc\u001b[0m in \u001b[0;36mread_sql\u001b[0;34m(sql, con, index_col, coerce_float, params, parse_dates, columns, chunksize)\u001b[0m\n\u001b[1;32m    379\u001b[0m             \u001b[0msql\u001b[0m\u001b[0;34m,\u001b[0m \u001b[0mindex_col\u001b[0m\u001b[0;34m=\u001b[0m\u001b[0mindex_col\u001b[0m\u001b[0;34m,\u001b[0m \u001b[0mparams\u001b[0m\u001b[0;34m=\u001b[0m\u001b[0mparams\u001b[0m\u001b[0;34m,\u001b[0m\u001b[0;34m\u001b[0m\u001b[0m\n\u001b[1;32m    380\u001b[0m             \u001b[0mcoerce_float\u001b[0m\u001b[0;34m=\u001b[0m\u001b[0mcoerce_float\u001b[0m\u001b[0;34m,\u001b[0m \u001b[0mparse_dates\u001b[0m\u001b[0;34m=\u001b[0m\u001b[0mparse_dates\u001b[0m\u001b[0;34m,\u001b[0m\u001b[0;34m\u001b[0m\u001b[0m\n\u001b[0;32m--> 381\u001b[0;31m             chunksize=chunksize)\n\u001b[0m\u001b[1;32m    382\u001b[0m \u001b[0;34m\u001b[0m\u001b[0m\n\u001b[1;32m    383\u001b[0m     \u001b[0;32mtry\u001b[0m\u001b[0;34m:\u001b[0m\u001b[0;34m\u001b[0m\u001b[0m\n",
      "\u001b[0;32m/usr/local/lib/python2.7/dist-packages/pandas/io/sql.pyc\u001b[0m in \u001b[0;36mread_query\u001b[0;34m(self, sql, index_col, coerce_float, params, parse_dates, chunksize)\u001b[0m\n\u001b[1;32m   1411\u001b[0m \u001b[0;34m\u001b[0m\u001b[0m\n\u001b[1;32m   1412\u001b[0m         \u001b[0margs\u001b[0m \u001b[0;34m=\u001b[0m \u001b[0m_convert_params\u001b[0m\u001b[0;34m(\u001b[0m\u001b[0msql\u001b[0m\u001b[0;34m,\u001b[0m \u001b[0mparams\u001b[0m\u001b[0;34m)\u001b[0m\u001b[0;34m\u001b[0m\u001b[0m\n\u001b[0;32m-> 1413\u001b[0;31m         \u001b[0mcursor\u001b[0m \u001b[0;34m=\u001b[0m \u001b[0mself\u001b[0m\u001b[0;34m.\u001b[0m\u001b[0mexecute\u001b[0m\u001b[0;34m(\u001b[0m\u001b[0;34m*\u001b[0m\u001b[0margs\u001b[0m\u001b[0;34m)\u001b[0m\u001b[0;34m\u001b[0m\u001b[0m\n\u001b[0m\u001b[1;32m   1414\u001b[0m         \u001b[0mcolumns\u001b[0m \u001b[0;34m=\u001b[0m \u001b[0;34m[\u001b[0m\u001b[0mcol_desc\u001b[0m\u001b[0;34m[\u001b[0m\u001b[0;36m0\u001b[0m\u001b[0;34m]\u001b[0m \u001b[0;32mfor\u001b[0m \u001b[0mcol_desc\u001b[0m \u001b[0;32min\u001b[0m \u001b[0mcursor\u001b[0m\u001b[0;34m.\u001b[0m\u001b[0mdescription\u001b[0m\u001b[0;34m]\u001b[0m\u001b[0;34m\u001b[0m\u001b[0m\n\u001b[1;32m   1415\u001b[0m \u001b[0;34m\u001b[0m\u001b[0m\n",
      "\u001b[0;32m/usr/local/lib/python2.7/dist-packages/pandas/io/sql.pyc\u001b[0m in \u001b[0;36mexecute\u001b[0;34m(self, *args, **kwargs)\u001b[0m\n\u001b[1;32m   1388\u001b[0m             ex = DatabaseError(\n\u001b[1;32m   1389\u001b[0m                 \"Execution failed on sql '%s': %s\" % (args[0], exc))\n\u001b[0;32m-> 1390\u001b[0;31m             \u001b[0mraise_with_traceback\u001b[0m\u001b[0;34m(\u001b[0m\u001b[0mex\u001b[0m\u001b[0;34m)\u001b[0m\u001b[0;34m\u001b[0m\u001b[0m\n\u001b[0m\u001b[1;32m   1391\u001b[0m \u001b[0;34m\u001b[0m\u001b[0m\n\u001b[1;32m   1392\u001b[0m     \u001b[0;34m@\u001b[0m\u001b[0mstaticmethod\u001b[0m\u001b[0;34m\u001b[0m\u001b[0m\n",
      "\u001b[0;32m/usr/local/lib/python2.7/dist-packages/pandas/io/sql.pyc\u001b[0m in \u001b[0;36mexecute\u001b[0;34m(self, *args, **kwargs)\u001b[0m\n\u001b[1;32m   1376\u001b[0m                 \u001b[0mcur\u001b[0m\u001b[0;34m.\u001b[0m\u001b[0mexecute\u001b[0m\u001b[0;34m(\u001b[0m\u001b[0;34m*\u001b[0m\u001b[0margs\u001b[0m\u001b[0;34m,\u001b[0m \u001b[0;34m**\u001b[0m\u001b[0mkwargs\u001b[0m\u001b[0;34m)\u001b[0m\u001b[0;34m\u001b[0m\u001b[0m\n\u001b[1;32m   1377\u001b[0m             \u001b[0;32melse\u001b[0m\u001b[0;34m:\u001b[0m\u001b[0;34m\u001b[0m\u001b[0m\n\u001b[0;32m-> 1378\u001b[0;31m                 \u001b[0mcur\u001b[0m\u001b[0;34m.\u001b[0m\u001b[0mexecute\u001b[0m\u001b[0;34m(\u001b[0m\u001b[0;34m*\u001b[0m\u001b[0margs\u001b[0m\u001b[0;34m)\u001b[0m\u001b[0;34m\u001b[0m\u001b[0m\n\u001b[0m\u001b[1;32m   1379\u001b[0m             \u001b[0;32mreturn\u001b[0m \u001b[0mcur\u001b[0m\u001b[0;34m\u001b[0m\u001b[0m\n\u001b[1;32m   1380\u001b[0m         \u001b[0;32mexcept\u001b[0m \u001b[0mException\u001b[0m \u001b[0;32mas\u001b[0m \u001b[0mexc\u001b[0m\u001b[0;34m:\u001b[0m\u001b[0;34m\u001b[0m\u001b[0m\n",
      "\u001b[0;32m/usr/local/lib/python2.7/dist-packages/MySQLdb/cursors.pyc\u001b[0m in \u001b[0;36mexecute\u001b[0;34m(self, query, args)\u001b[0m\n\u001b[1;32m    248\u001b[0m         \u001b[0;32mexcept\u001b[0m \u001b[0mException\u001b[0m\u001b[0;34m:\u001b[0m\u001b[0;34m\u001b[0m\u001b[0m\n\u001b[1;32m    249\u001b[0m             \u001b[0mexc\u001b[0m\u001b[0;34m,\u001b[0m \u001b[0mvalue\u001b[0m \u001b[0;34m=\u001b[0m \u001b[0msys\u001b[0m\u001b[0;34m.\u001b[0m\u001b[0mexc_info\u001b[0m\u001b[0;34m(\u001b[0m\u001b[0;34m)\u001b[0m\u001b[0;34m[\u001b[0m\u001b[0;34m:\u001b[0m\u001b[0;36m2\u001b[0m\u001b[0;34m]\u001b[0m\u001b[0;34m\u001b[0m\u001b[0m\n\u001b[0;32m--> 250\u001b[0;31m             \u001b[0mself\u001b[0m\u001b[0;34m.\u001b[0m\u001b[0merrorhandler\u001b[0m\u001b[0;34m(\u001b[0m\u001b[0mself\u001b[0m\u001b[0;34m,\u001b[0m \u001b[0mexc\u001b[0m\u001b[0;34m,\u001b[0m \u001b[0mvalue\u001b[0m\u001b[0;34m)\u001b[0m\u001b[0;34m\u001b[0m\u001b[0m\n\u001b[0m\u001b[1;32m    251\u001b[0m         \u001b[0mself\u001b[0m\u001b[0;34m.\u001b[0m\u001b[0m_executed\u001b[0m \u001b[0;34m=\u001b[0m \u001b[0mquery\u001b[0m\u001b[0;34m\u001b[0m\u001b[0m\n\u001b[1;32m    252\u001b[0m         \u001b[0;32mif\u001b[0m \u001b[0;32mnot\u001b[0m \u001b[0mself\u001b[0m\u001b[0;34m.\u001b[0m\u001b[0m_defer_warnings\u001b[0m\u001b[0;34m:\u001b[0m\u001b[0;34m\u001b[0m\u001b[0m\n",
      "\u001b[0;32m/usr/local/lib/python2.7/dist-packages/MySQLdb/connections.pyc\u001b[0m in \u001b[0;36mdefaulterrorhandler\u001b[0;34m(***failed resolving arguments***)\u001b[0m\n\u001b[1;32m     48\u001b[0m     \u001b[0;32mdel\u001b[0m \u001b[0mconnection\u001b[0m\u001b[0;34m\u001b[0m\u001b[0m\n\u001b[1;32m     49\u001b[0m     \u001b[0;32mif\u001b[0m \u001b[0misinstance\u001b[0m\u001b[0;34m(\u001b[0m\u001b[0merrorvalue\u001b[0m\u001b[0;34m,\u001b[0m \u001b[0mBaseException\u001b[0m\u001b[0;34m)\u001b[0m\u001b[0;34m:\u001b[0m\u001b[0;34m\u001b[0m\u001b[0m\n\u001b[0;32m---> 50\u001b[0;31m         \u001b[0;32mraise\u001b[0m \u001b[0merrorvalue\u001b[0m\u001b[0;34m\u001b[0m\u001b[0m\n\u001b[0m\u001b[1;32m     51\u001b[0m     \u001b[0;32mif\u001b[0m \u001b[0merrorclass\u001b[0m \u001b[0;32mis\u001b[0m \u001b[0;32mnot\u001b[0m \u001b[0mNone\u001b[0m\u001b[0;34m:\u001b[0m\u001b[0;34m\u001b[0m\u001b[0m\n\u001b[1;32m     52\u001b[0m         \u001b[0;32mraise\u001b[0m \u001b[0merrorclass\u001b[0m\u001b[0;34m(\u001b[0m\u001b[0merrorvalue\u001b[0m\u001b[0;34m)\u001b[0m\u001b[0;34m\u001b[0m\u001b[0m\n",
      "\u001b[0;31mDatabaseError\u001b[0m: Execution failed on sql 'select fecha,profundidad from myusers_hydrodata where codigo='93' and fecha between '2018-04-15 15:00' and '2018-04-15 23:00';': (1054, \"Unknown column 'profundidad' in 'field list'\")"
     ]
    }
   ],
   "source": [
    "self.level_local(start,end)"
   ]
  },
  {
   "cell_type": "code",
   "execution_count": null,
   "metadata": {},
   "outputs": [],
   "source": []
  },
  {
   "cell_type": "code",
   "execution_count": null,
   "metadata": {},
   "outputs": [],
   "source": [
    "self.read_sql('show tables;')"
   ]
  },
  {
   "cell_type": "code",
   "execution_count": null,
   "metadata": {},
   "outputs": [],
   "source": []
  }
 ],
 "metadata": {
  "kernelspec": {
   "display_name": "Python 2",
   "language": "python",
   "name": "python2"
  },
  "language_info": {
   "codemirror_mode": {
    "name": "ipython",
    "version": 3
   },
   "file_extension": ".py",
   "mimetype": "text/x-python",
   "name": "python",
   "nbconvert_exporter": "python",
   "pygments_lexer": "ipython3",
   "version": "3.5.2"
  }
 },
 "nbformat": 4,
 "nbformat_minor": 2
}
