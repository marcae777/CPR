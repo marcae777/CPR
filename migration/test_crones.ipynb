{
 "cells": [
  {
   "cell_type": "code",
   "execution_count": 1,
   "metadata": {},
   "outputs": [],
   "source": [
    "import warnings\n",
    "warnings.filterwarnings(\"ignore\")\n",
    "from cpr.Nivel import Nivel\n",
    "from cpr.SqlDb import SqlDb\n",
    "import cpr.information as info\n",
    "import os\n",
    "import datetime\n",
    "import pandas as pd"
   ]
  },
  {
   "cell_type": "markdown",
   "metadata": {},
   "source": [
    "# Crones\n",
    "\n",
    "- Transformación de reflectividad a intensidad de radar de miel a local\n",
    "\n",
    "    Para esto se usa <<sudo sshfs usuario@ip:remote_radar_path local_radar_path -o allow_other -o reconnect>>\n",
    "    sshfs usa ssh para montar la carpeta donde está la lluvia de radar del servidos a local.\n",
    "\n",
    "\n",
    "- Migración nivel a base de datos local\n",
    "- Gráficas de nivel\n",
    "- Reportes\n",
    "    - Niveles de riesgo, 3 horas\n",
    "    - Lluvia acumulada en las cuencas, 2 1/2 horas y 1/2 hora futura\n",
    "    - reporte de lluvia y nivel, 2 1/2 horas y 1/2 hora futura\n",
    "    - gifs, 2 1/2 horas y 1/2 hora futura\n",
    "    - Resumen diario\n",
    "    - Calidad"
   ]
  },
  {
   "cell_type": "markdown",
   "metadata": {},
   "source": [
    "### Transformación de reflectividad a intensidad de radar de miel a local"
   ]
  },
  {
   "cell_type": "code",
   "execution_count": 2,
   "metadata": {},
   "outputs": [],
   "source": [
    "start = pd.to_datetime('2018-09-27 11:20')\n",
    "end   = pd.to_datetime('2018-09-27 20:40')"
   ]
  },
  {
   "cell_type": "code",
   "execution_count": 3,
   "metadata": {},
   "outputs": [
    {
     "data": {
      "text/plain": [
       "'python3 /home/mcano/dev/cpr/crones/Radar2RainConvStra.py 2018-10-03 2018-10-03 /home/mcano/dev/cprweb/src/media/radar/ /home/mcano/dev/cprweb/src/media/101_RadarClass/ -1 19:09 -2 19:39 -v'"
      ]
     },
     "execution_count": 3,
     "metadata": {},
     "output_type": "execute_result"
    }
   ],
   "source": [
    "\"python3 /home/mcano/dev/cpr/crones/Radar2RainConvStra.py 2018-10-03 2018-10-03 /home/mcano/dev/cprweb/src/media/radar/ /home/mcano/dev/cprweb/src/media/101_RadarClass/ -1 19:09 -2 19:39 -v\""
   ]
  },
  {
   "cell_type": "code",
   "execution_count": null,
   "metadata": {},
   "outputs": [],
   "source": [
    "fechaI=None\n",
    "fechaF=None\n",
    "rutaRadar=None\n",
    "rutaNc = None\n",
    "verbose = None\n",
    "hora_1 = None\n",
    "hora_2 = None\n",
    "a_yuter=15\n",
    "b_yuter=30\n",
    "metodo = 'yuter'\n",
    "extrapol=None\n",
    "kwargs = {}\n",
    "\n",
    "\n",
    "dateText = dt.datetime.now().strftime('%Y%m%d%H%M')\n",
    "start =  kwargs.get('start',datetime.datetime.now() + datetime.timedelta(hours = 5) - datetime.timedelta(minutes = 15))\n",
    "end =  kwargs.get('end',datetime.datetime.now() + datetime.timedelta(hours = 5) + datetime.timedelta(minutes = 15)\n",
    ")\n",
    "hora1 = start.strftime('%H:%M')  \n",
    "hora2  = end.strftime('%H:%M')  \n",
    "rutaRadar = self.data_path + 'radar'\n",
    "rutaNc = self.data_path + '101_RadarClass'\n",
    "\n",
    "#Si tiene que revisar en las carpetas de radar lo hace\n",
    "if extrapol == False:\n",
    "    datesDias = pd.date_range(fechaI,fechaF,freq='D')\n",
    "    a = pd.Series(np.zeros(len(datesDias)),index=datesDias)\n",
    "    a = a.resample('A').sum()\n",
    "    Anos = [i.strftime('%Y') for i in a.index.to_pydatetime()]\n",
    "\n",
    "    datesDias = [d.strftime('%Y%m%d') for d in datesDias.to_pydatetime()]\n",
    "\n",
    "    ListDays = []\n",
    "    ListRutas = []\n",
    "    for d in datesDias:\n",
    "            try:\n",
    "                L = os.listdir(rutaRadar+d)\n",
    "                L = [l for l in L if any(map(l.startswith,Anos)) and l.endswith('010_120.bin')]\n",
    "                ListDays.extend(L)\n",
    "                Ruta = [rutaRadar+d+'/'+l for l in L if any(map(l.startswith,Anos)) and l.endswith('010_120.bin')]\n",
    "                ListRutas.extend(Ruta)\n",
    "            except:\n",
    "                pass\n",
    "    ListDays.sort()\n",
    "    ListRutas.sort()\n",
    "    ListRutasFin = []\n",
    "    # Obtiene la ruta final teniendo en cuenta la ruta del dia en las carpetas de radar\n",
    "    for j,i in zip(ListRutas, ListDays):\n",
    "        d = dt.datetime.strptime(i[:-12],'%Y%m%d%H%M')\n",
    "        if d >= start and d<= end:\n",
    "            ListRutasFin.append(j)\n",
    "#Si es extrapolacion no tiene que revisar en las carpetas de radar\n",
    "else:\n",
    "    ListRutasFin = os.listdir(rutaRadar)\n",
    "    ListRutasFin.sort()\n",
    "    ListRutasFin = [rutaRadar + i for i in ListRutasFin]\n",
    "\n",
    "#CONVERSION, CLASIFICACION Y GUARDADO\n",
    "#Carga la cuenca del AMVA\n",
    "Niter = len(ListRutasFin)\n",
    "Conv = np.zeros(Niter)\n",
    "Stra = np.zeros(Niter)\n",
    "Total = np.zeros(Niter)\n",
    "rad = radar.radar_process()\n",
    "\n",
    "for c,l in enumerate(ListRutasFin):\n",
    "    Total[c] = 0\n",
    "    Conv[c] = 0\n",
    "    Stra[c] = 0\n",
    "    rad.read_bin(l)\n",
    "    rad.Class2ConvStratiform(metodo=metodo, b_yuter = b_yuter, a_yuter = a_yuter)\n",
    "    rad.DBZ2Rain()\n",
    "    #Obtiene la ref media\n",
    "    Conv[c] = rad.Z[rad.ConvStra == 2].sum() / 1e6\n",
    "    Stra[c] = rad.Z[rad.ConvStra == 1].sum() / 1e6\n",
    "    #guarda\n",
    "    if extrapol == False:\n",
    "        rad.save_rain_class(rutaNC+l[-24:-3]+'nc')\n",
    "    else:\n",
    "        rad.save_rain_class(rutaNC+l[-24:-4]+'_extrapol.nc')\n",
    "    Total[c] = Conv[c] + Stra[c]\n",
    "    if verbose:\n",
    "        print('no verbose')"
   ]
  },
  {
   "cell_type": "markdown",
   "metadata": {},
   "source": [
    "### estaciones en riesgo"
   ]
  },
  {
   "cell_type": "code",
   "execution_count": 35,
   "metadata": {},
   "outputs": [],
   "source": [
    "self = Nivel(**info.LOCAL)\n",
    "df = self.level_all(start,start+datetime.timedelta(minutes=10))\n",
    "risks = self.risk_df(df)\n",
    "in_risk = risks[risks.sum(axis=1)>0.0].sort_index(ascending=False).index"
   ]
  },
  {
   "cell_type": "code",
   "execution_count": null,
   "metadata": {},
   "outputs": [],
   "source": [
    "def rain_report(self,date):\n",
    "    '''\n",
    "    Gets last topo-batimetry in db\n",
    "    Parameters\n",
    "    ----------\n",
    "    x_sensor   :   x location of sensor or point to adjust topo-batimetry\n",
    "    Returns\n",
    "    ----------\n",
    "    last topo-batimetry in db, DataFrame\n",
    "    '''\n",
    "    date = pd.to_datetime(date)\n",
    "    start = date-datetime.timedelta(minutes=150)# 3 horas atras\n",
    "    end = date+datetime.timedelta(minutes=30)\n",
    "    #filepaths\n",
    "    local_path = self.data_path\n",
    "    remote_path = 'mcano@siata.gov.co:/var/www/mario/reportes_lluvia/'\n",
    "    day_path = local_path + date.strftime('%Y%m%d')+'/'\n",
    "    station_path = day_path+str(self.codigo)+'/'\n",
    "    filepath = station_path+self.file_format(start,end)\n",
    "    #make directories\n",
    "    os.system('mkdir %s'%day_path)\n",
    "    os.system('mkdir %s'%station_path)\n",
    "    #rain\n",
    "    vec = self.radar_rain(start,end,ext='.bin')\n",
    "    current_vect = vec.drop(vec.loc[date:].index).sum().values/1000\n",
    "    future_vect = vec.drop(vec.loc[:date].index).sum().values/1000\n",
    "    # level\n",
    "    mean_rain = self.radar_rain(start,end)*12.0\n",
    "    series = self.level(start,date).resample('5min').mean()\n",
    "    series[series>self.info.offset] = np.NaN\n",
    "    series.index.name = ''\n",
    "    level_cond = (series.dropna().size/series.size) < 0.05 # condición de nivel para graficar\n",
    "    rain_cond = len(current_vect)==0.0\n",
    "    if level_cond:\n",
    "        print ('WARNING : Not enough level data')\n",
    "    if rain_cond:\n",
    "        print ('WARNING : Not rain in basin')\n",
    "    if level_cond or rain_cond:\n",
    "        pass\n",
    "    else:\n",
    "        #plots\n",
    "        self.plot_rain_future(current_vect,future_vect,filepath = filepath+'_rain')\n",
    "        self.plot_level_report(series,mean_rain,self.risk_levels)\n",
    "        plt.gca().set_xlim(start,end)\n",
    "        plt.savefig(filepath+'_level.png',bbox_inches='tight')\n",
    "        self.rain_report_reportlab(filepath,date)\n",
    "        os.system('ssh mcano@siata.gov.co \"mkdir /var/www/mario/reportes_lluvia/%s\"'%(date.strftime('%Y%m%d')))\n",
    "        query = \"rsync -r %s %s/%s/\"%(filepath+'_report.pdf',remote_path+date.strftime('%Y%m%d'),self.codigo)\n",
    "        os.system(query)\n",
    "        \n",
    "def siata_remote_data_to_transfer(start,end,*args,**kwargs):\n",
    "    remote = cpr.Nivel(**cpr.info.REMOTE)\n",
    "    codigos_str = '('+str(list(self.infost.index)).strip('[]')+')'\n",
    "    parameters = tuple([codigos_str,self.fecha_hora_query(start,end)])\n",
    "    df = remote.read_sql('SELECT * FROM datos WHERE cliente in %s and %s'%parameters)\n",
    "    return df\n",
    "\n",
    "def filter_data_to_transfer(self,start,end,local_path=None,remote_path=None,**kwargs):\n",
    "    transfer = self.siata_remote_data_to_transfer(start,end,**kwargs)\n",
    "    def convert(x):\n",
    "        try:\n",
    "            value = pd.to_datetime(x).strftime('%Y-%m-%d')\n",
    "        except:\n",
    "            value = np.NaN\n",
    "        return value\n",
    "    transfer['fecha'] = transfer['fecha'].apply(lambda x:convert(x))\n",
    "    transfer = transfer.loc[transfer['fecha'].dropna().index]\n",
    "    if local_path:\n",
    "        transfer.to_csv(local_path)\n",
    "        if remote_path:\n",
    "            os.system('scp %s %s'%(local_path,remote_path))\n",
    "    return transfer\n",
    "\n",
    "def export_tables(self,tablas):\n",
    "    for tabla in tablas:\n",
    "        initia = datetime.datetime.now()\n",
    "        filename = '%s.csv'%tabla\n",
    "        local_path = '/media/nicolas/maso/Mario/data_migration/%s'%filename\n",
    "        remote_path = \"mcano@siata.gov.co:data_migration/%s\"%filename\n",
    "        self.read_sql('select * from %s'%tabla).to_csv(local_path)\n",
    "        print(os.system('scp %s %s'%(local_path,remote_path)))\n",
    "        print('filename:%s,took:%s'%(filename,datetime.datetime.now()-inicia))"
   ]
  },
  {
   "cell_type": "markdown",
   "metadata": {},
   "source": [
    "### filter data to transfer"
   ]
  },
  {
   "cell_type": "code",
   "execution_count": null,
   "metadata": {},
   "outputs": [],
   "source": [
    "daily = pd.date_range('2018-08-18',datetime.datetime.now())\n",
    "sundays = daily[daily.strftime('%a') =='dom']\n",
    "# arguments\n",
    "for count in np.arange(0,len(sundays)-1):\n",
    "    inicia = datetime.datetime.now()\n",
    "    start = sundays[count]\n",
    "    end   = sundays[count+1]\n",
    "    date_format = '%Y-%m-%d'\n",
    "    filename = 'weekly_level_%s_%s.csv'%(start.strftime(date_format),end.strftime(date_format))\n",
    "    local_path = '/media/nicolas/maso/Mario/weekly_data/%s'%filename\n",
    "    remote_path = \"mcano@siata.gov.co:weekly_data/%s\"%filename\n",
    "    #filter_data_to_transfer(start,end,local_path,remote_path)\n",
    "    print('filename:%s,took:%s'%(filename,datetime.datetime.now()-inicia))"
   ]
  },
  {
   "cell_type": "code",
   "execution_count": null,
   "metadata": {},
   "outputs": [],
   "source": [
    "tables_remote = ['estaciones','aforo_nueva','levantamiento_aforo_nueva']\n",
    "\n",
    "tables_local = ['estaciones_estaciones',\n",
    "                'myusers_item',\n",
    "                'myusers_section',\n",
    "                'myusers_topo',\n",
    "                'uploadfiles_uploadfilesmodel']"
   ]
  }
 ],
 "metadata": {
  "kernelspec": {
   "display_name": "Python 3",
   "language": "python",
   "name": "python3"
  },
  "language_info": {
   "codemirror_mode": {
    "name": "ipython",
    "version": 3
   },
   "file_extension": ".py",
   "mimetype": "text/x-python",
   "name": "python",
   "nbconvert_exporter": "python",
   "pygments_lexer": "ipython3",
   "version": "3.6.6"
  }
 },
 "nbformat": 4,
 "nbformat_minor": 2
}
